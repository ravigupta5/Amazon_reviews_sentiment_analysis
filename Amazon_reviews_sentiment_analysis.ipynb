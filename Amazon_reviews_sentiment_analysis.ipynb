{
 "cells": [
  {
   "cell_type": "markdown",
   "metadata": {},
   "source": [
    "# Amazon_reviews_sentiment_analysis\n",
    "## NLP project using LSTM\n",
    "### The aim is to predict positive or negative sentiment of user towards the product on the basis of review (text) given"
   ]
  },
  {
   "cell_type": "markdown",
   "metadata": {},
   "source": [
    "## Importing Data"
   ]
  },
  {
   "cell_type": "code",
   "execution_count": 5,
   "metadata": {
    "colab": {
     "base_uri": "https://localhost:8080/",
     "height": 785
    },
    "colab_type": "code",
    "id": "7rTJS9ThbTc6",
    "outputId": "00020d96-fc0d-4162-a947-4285af9f457f"
   },
   "outputs": [
    {
     "name": "stdout",
     "output_type": "stream",
     "text": [
      "Uninstalling tb-nightly-2.3.0a20200605:\n",
      "  Would remove:\n",
      "    /usr/local/bin/tensorboard\n",
      "    /usr/local/lib/python3.6/dist-packages/tb_nightly-2.3.0a20200605.dist-info/*\n",
      "    /usr/local/lib/python3.6/dist-packages/tensorboard/*\n",
      "Proceed (y/n)? n\n",
      "\u001b[33mWARNING: Skipping tensorboardX as it is not installed.\u001b[0m\n",
      "Requirement already satisfied: tf-nightly in /usr/local/lib/python3.6/dist-packages (2.3.0.dev20200605)\n",
      "Requirement already satisfied: wrapt>=1.11.1 in /usr/local/lib/python3.6/dist-packages (from tf-nightly) (1.12.1)\n",
      "Requirement already satisfied: wheel>=0.26 in /usr/local/lib/python3.6/dist-packages (from tf-nightly) (0.34.2)\n",
      "Requirement already satisfied: six>=1.12.0 in /usr/local/lib/python3.6/dist-packages (from tf-nightly) (1.12.0)\n",
      "Requirement already satisfied: opt-einsum>=2.3.2 in /usr/local/lib/python3.6/dist-packages (from tf-nightly) (3.2.1)\n",
      "Requirement already satisfied: grpcio>=1.8.6 in /usr/local/lib/python3.6/dist-packages (from tf-nightly) (1.29.0)\n",
      "Requirement already satisfied: tb-nightly<2.4.0a0,>=2.3.0a0 in /usr/local/lib/python3.6/dist-packages (from tf-nightly) (2.3.0a20200605)\n",
      "Requirement already satisfied: termcolor>=1.1.0 in /usr/local/lib/python3.6/dist-packages (from tf-nightly) (1.1.0)\n",
      "Requirement already satisfied: scipy==1.4.1 in /usr/local/lib/python3.6/dist-packages (from tf-nightly) (1.4.1)\n",
      "Requirement already satisfied: google-pasta>=0.1.8 in /usr/local/lib/python3.6/dist-packages (from tf-nightly) (0.2.0)\n",
      "Requirement already satisfied: h5py<2.11.0,>=2.10.0 in /usr/local/lib/python3.6/dist-packages (from tf-nightly) (2.10.0)\n",
      "Requirement already satisfied: keras-preprocessing<1.2,>=1.1.1 in /usr/local/lib/python3.6/dist-packages (from tf-nightly) (1.1.2)\n",
      "Requirement already satisfied: numpy<2.0,>=1.16.0 in /usr/local/lib/python3.6/dist-packages (from tf-nightly) (1.18.4)\n",
      "Requirement already satisfied: tf-estimator-nightly in /usr/local/lib/python3.6/dist-packages (from tf-nightly) (2.3.0.dev2020060501)\n",
      "Requirement already satisfied: absl-py>=0.7.0 in /usr/local/lib/python3.6/dist-packages (from tf-nightly) (0.9.0)\n",
      "Requirement already satisfied: astunparse==1.6.3 in /usr/local/lib/python3.6/dist-packages (from tf-nightly) (1.6.3)\n",
      "Requirement already satisfied: protobuf>=3.9.2 in /usr/local/lib/python3.6/dist-packages (from tf-nightly) (3.10.0)\n",
      "Requirement already satisfied: gast==0.3.3 in /usr/local/lib/python3.6/dist-packages (from tf-nightly) (0.3.3)\n",
      "Requirement already satisfied: markdown>=2.6.8 in /usr/local/lib/python3.6/dist-packages (from tb-nightly<2.4.0a0,>=2.3.0a0->tf-nightly) (3.2.2)\n",
      "Requirement already satisfied: google-auth<2,>=1.6.3 in /usr/local/lib/python3.6/dist-packages (from tb-nightly<2.4.0a0,>=2.3.0a0->tf-nightly) (1.7.2)\n",
      "Requirement already satisfied: google-auth-oauthlib<0.5,>=0.4.1 in /usr/local/lib/python3.6/dist-packages (from tb-nightly<2.4.0a0,>=2.3.0a0->tf-nightly) (0.4.1)\n",
      "Requirement already satisfied: tensorboard-plugin-wit>=1.6.0 in /usr/local/lib/python3.6/dist-packages (from tb-nightly<2.4.0a0,>=2.3.0a0->tf-nightly) (1.6.0.post3)\n",
      "Requirement already satisfied: setuptools>=41.0.0 in /usr/local/lib/python3.6/dist-packages (from tb-nightly<2.4.0a0,>=2.3.0a0->tf-nightly) (47.1.1)\n",
      "Requirement already satisfied: requests<3,>=2.21.0 in /usr/local/lib/python3.6/dist-packages (from tb-nightly<2.4.0a0,>=2.3.0a0->tf-nightly) (2.23.0)\n",
      "Requirement already satisfied: werkzeug>=0.11.15 in /usr/local/lib/python3.6/dist-packages (from tb-nightly<2.4.0a0,>=2.3.0a0->tf-nightly) (1.0.1)\n",
      "Requirement already satisfied: importlib-metadata; python_version < \"3.8\" in /usr/local/lib/python3.6/dist-packages (from markdown>=2.6.8->tb-nightly<2.4.0a0,>=2.3.0a0->tf-nightly) (1.6.0)\n",
      "Requirement already satisfied: rsa<4.1,>=3.1.4 in /usr/local/lib/python3.6/dist-packages (from google-auth<2,>=1.6.3->tb-nightly<2.4.0a0,>=2.3.0a0->tf-nightly) (4.0)\n",
      "Requirement already satisfied: cachetools<3.2,>=2.0.0 in /usr/local/lib/python3.6/dist-packages (from google-auth<2,>=1.6.3->tb-nightly<2.4.0a0,>=2.3.0a0->tf-nightly) (3.1.1)\n",
      "Requirement already satisfied: pyasn1-modules>=0.2.1 in /usr/local/lib/python3.6/dist-packages (from google-auth<2,>=1.6.3->tb-nightly<2.4.0a0,>=2.3.0a0->tf-nightly) (0.2.8)\n",
      "Requirement already satisfied: requests-oauthlib>=0.7.0 in /usr/local/lib/python3.6/dist-packages (from google-auth-oauthlib<0.5,>=0.4.1->tb-nightly<2.4.0a0,>=2.3.0a0->tf-nightly) (1.3.0)\n",
      "Requirement already satisfied: idna<3,>=2.5 in /usr/local/lib/python3.6/dist-packages (from requests<3,>=2.21.0->tb-nightly<2.4.0a0,>=2.3.0a0->tf-nightly) (2.9)\n",
      "Requirement already satisfied: urllib3!=1.25.0,!=1.25.1,<1.26,>=1.21.1 in /usr/local/lib/python3.6/dist-packages (from requests<3,>=2.21.0->tb-nightly<2.4.0a0,>=2.3.0a0->tf-nightly) (1.24.3)\n",
      "Requirement already satisfied: chardet<4,>=3.0.2 in /usr/local/lib/python3.6/dist-packages (from requests<3,>=2.21.0->tb-nightly<2.4.0a0,>=2.3.0a0->tf-nightly) (3.0.4)\n",
      "Requirement already satisfied: certifi>=2017.4.17 in /usr/local/lib/python3.6/dist-packages (from requests<3,>=2.21.0->tb-nightly<2.4.0a0,>=2.3.0a0->tf-nightly) (2020.4.5.1)\n",
      "Requirement already satisfied: zipp>=0.5 in /usr/local/lib/python3.6/dist-packages (from importlib-metadata; python_version < \"3.8\"->markdown>=2.6.8->tb-nightly<2.4.0a0,>=2.3.0a0->tf-nightly) (3.1.0)\n",
      "Requirement already satisfied: pyasn1>=0.1.3 in /usr/local/lib/python3.6/dist-packages (from rsa<4.1,>=3.1.4->google-auth<2,>=1.6.3->tb-nightly<2.4.0a0,>=2.3.0a0->tf-nightly) (0.4.8)\n",
      "Requirement already satisfied: oauthlib>=3.0.0 in /usr/local/lib/python3.6/dist-packages (from requests-oauthlib>=0.7.0->google-auth-oauthlib<0.5,>=0.4.1->tb-nightly<2.4.0a0,>=2.3.0a0->tf-nightly) (3.1.0)\n"
     ]
    }
   ],
   "source": [
    "from __future__ import absolute_import, division, print_function, unicode_literals\n",
    "\n",
    "try:\n",
    "  !pip uninstall tb-nightly tensorboardX tensorboardX\n",
    "  !pip install tf-nightly\n",
    "except Exception:\n",
    "  pass\n",
    "import tensorflow as tf\n",
    "\n",
    "import os\n",
    "import datetime\n",
    "import tensorflow_datasets as tfds\n",
    "\n",
    "%load_ext tensorboard"
   ]
  },
  {
   "cell_type": "markdown",
   "metadata": {},
   "source": [
    "### Imporing Mobile_Electronics reviews "
   ]
  },
  {
   "cell_type": "code",
   "execution_count": 8,
   "metadata": {
    "colab": {
     "base_uri": "https://localhost:8080/",
     "height": 418,
     "referenced_widgets": [
      "111168d7e5cb47e89d422419e6d69081",
      "37cb44861b474418a331099da7ed11a3",
      "32cff67ad2f44881a91eea1b21e6b52c",
      "ec5a8f194b364838863682d3f09fa375",
      "2af9a7fad4e14cb8b3c84fb9692bcae5",
      "677d3053ef894d12bfe5dcb4117a9d87",
      "2342a9cc34bf48579855eadf1d581b04",
      "f83bd51d45db47b0977602bb9a9e2b18",
      "dda6bbef8d7e463bb64c5c71f4334a8f",
      "259830e8d2e4449fb0fba2659fbce239",
      "38e62e602f4943fdacf84d91637b4f4a",
      "7bffcee58be4450c9156e2c8b7ad47c3",
      "d139fe6439354308b383ccd764c9e3dd",
      "b662bca0e7534976898dce3b9bdbef62",
      "787ef22d4e4d42c98277b7340e2c4009",
      "fcc2b04dbe2846bca3811259e9cf92be",
      "6f6c9342d36c481791b027618dcca30e",
      "230077439e784decb346ec9c59c7cadb",
      "82162c677a624845a875b8eb32e54121",
      "05c75e4bbdce4fa9895741723948c82a",
      "02290cbccb3a4e4aa88dfcdf5d042a29",
      "0611a9e775c140ecb4de44ec83366181",
      "3907d029da8d41acad21dc558e3f2084",
      "a8e8854c7ac8493183231a55b75e01c6",
      "590ef21057df4016ad508c943798123c",
      "866d7819a52847d9bac625e70195f573",
      "4bdf9064c0884bb7b6c90df311de392f",
      "9c16e6b27a7b418ea040e4dcf93b33f4",
      "153ba834bef948eba4e87861f62cd4e4",
      "061c67ff42d7462b991122c6ff41d976",
      "88f9580ef375413086d2967dbf1c5cea",
      "dd0d17696c0c489db5cfb255ba6e8099",
      "7e0020c3be8947cd81d316e18687888d",
      "6f1e764738384631b01345db52b6dea4",
      "d113c260975d49bfa43834ba78d97bab",
      "8993f14b645246c0a30edbeb5a1a97e6",
      "994a668f1d9c4e6384ed95a07394633a",
      "7df511b6b48c460ebe34704d03fc17e6",
      "a0e2d75588204926ae0a71c228fb36ce",
      "8746b6a7818a47a0ad7d5b8ac630b141",
      "580a34b6fd4f4bacb6f9ba991a7722b9",
      "bc82aaa9e67e4272a1a8951c9aeda014",
      "3d51261b82044336a9a34044c1b8afd0",
      "17ecdd3a441d42d1bcb7e54158b3aada",
      "4c23b57cd34c4a5e9135d4653ba888a7",
      "c017375c832d4a3d94c7f01c152bdece",
      "0bc3fcd52bf645dda05de7735086742c",
      "46dc07088dd84c59b2a43eed13d98784",
      "dd9aafcb521d483781d7894a7fa0c139",
      "f6a972969fe740a08bacfaa51a58d0ab",
      "919dce895c94474399333b1f7ba0d3f1",
      "5c08b1c0559040a0bb8608b5570f9e27",
      "59f1219405d145cf91c9c8c2bfb33c7c",
      "9b4361baaf234645a39893f40b8330e5",
      "ded8226089064f0caee656d4bfb29e9c",
      "a27731e1051044d7a0f9343eab978181"
     ]
    },
    "colab_type": "code",
    "id": "THJVlSDycG3h",
    "outputId": "a8d14675-720e-4a04-e133-69743a744b49"
   },
   "outputs": [
    {
     "name": "stdout",
     "output_type": "stream",
     "text": [
      "\u001b[1mDownloading and preparing dataset amazon_us_reviews/Mobile_Electronics_v1_00/0.1.0 (download: 21.81 MiB, generated: Unknown size, total: 21.81 MiB) to /root/tensorflow_datasets/amazon_us_reviews/Mobile_Electronics_v1_00/0.1.0...\u001b[0m\n"
     ]
    },
    {
     "data": {
      "application/vnd.jupyter.widget-view+json": {
       "model_id": "111168d7e5cb47e89d422419e6d69081",
       "version_major": 2,
       "version_minor": 0
      },
      "text/plain": [
       "HBox(children=(FloatProgress(value=1.0, bar_style='info', description='Dl Completed...', max=1.0, style=Progre…"
      ]
     },
     "metadata": {
      "tags": []
     },
     "output_type": "display_data"
    },
    {
     "data": {
      "application/vnd.jupyter.widget-view+json": {
       "model_id": "dda6bbef8d7e463bb64c5c71f4334a8f",
       "version_major": 2,
       "version_minor": 0
      },
      "text/plain": [
       "HBox(children=(FloatProgress(value=1.0, bar_style='info', description='Dl Size...', max=1.0, style=ProgressSty…"
      ]
     },
     "metadata": {
      "tags": []
     },
     "output_type": "display_data"
    },
    {
     "data": {
      "application/vnd.jupyter.widget-view+json": {
       "model_id": "6f6c9342d36c481791b027618dcca30e",
       "version_major": 2,
       "version_minor": 0
      },
      "text/plain": [
       "HBox(children=(FloatProgress(value=1.0, bar_style='info', description='Extraction completed...', max=1.0, styl…"
      ]
     },
     "metadata": {
      "tags": []
     },
     "output_type": "display_data"
    },
    {
     "name": "stderr",
     "output_type": "stream",
     "text": [
      "/usr/local/lib/python3.6/dist-packages/urllib3/connectionpool.py:847: InsecureRequestWarning: Unverified HTTPS request is being made. Adding certificate verification is strongly advised. See: https://urllib3.readthedocs.io/en/latest/advanced-usage.html#ssl-warnings\n",
      "  InsecureRequestWarning)\n"
     ]
    },
    {
     "name": "stdout",
     "output_type": "stream",
     "text": [
      "\n",
      "\n",
      "\n",
      "\n",
      "\n",
      "\n"
     ]
    },
    {
     "data": {
      "application/vnd.jupyter.widget-view+json": {
       "model_id": "590ef21057df4016ad508c943798123c",
       "version_major": 2,
       "version_minor": 0
      },
      "text/plain": [
       "HBox(children=(FloatProgress(value=1.0, bar_style='info', max=1.0), HTML(value='')))"
      ]
     },
     "metadata": {
      "tags": []
     },
     "output_type": "display_data"
    },
    {
     "name": "stdout",
     "output_type": "stream",
     "text": [
      "Shuffling and writing examples to /root/tensorflow_datasets/amazon_us_reviews/Mobile_Electronics_v1_00/0.1.0.incompleteL12OWT/amazon_us_reviews-train.tfrecord\n"
     ]
    },
    {
     "data": {
      "application/vnd.jupyter.widget-view+json": {
       "model_id": "7e0020c3be8947cd81d316e18687888d",
       "version_major": 2,
       "version_minor": 0
      },
      "text/plain": [
       "HBox(children=(FloatProgress(value=0.0, max=104975.0), HTML(value='')))"
      ]
     },
     "metadata": {
      "tags": []
     },
     "output_type": "display_data"
    },
    {
     "name": "stdout",
     "output_type": "stream",
     "text": [
      "\r"
     ]
    },
    {
     "data": {
      "application/vnd.jupyter.widget-view+json": {
       "model_id": "580a34b6fd4f4bacb6f9ba991a7722b9",
       "version_major": 2,
       "version_minor": 0
      },
      "text/plain": [
       "HBox(children=(FloatProgress(value=0.0, description='Computing statistics...', max=1.0, style=ProgressStyle(de…"
      ]
     },
     "metadata": {
      "tags": []
     },
     "output_type": "display_data"
    },
    {
     "data": {
      "application/vnd.jupyter.widget-view+json": {
       "model_id": "dd9aafcb521d483781d7894a7fa0c139",
       "version_major": 2,
       "version_minor": 0
      },
      "text/plain": [
       "HBox(children=(FloatProgress(value=1.0, bar_style='info', max=1.0), HTML(value='')))"
      ]
     },
     "metadata": {
      "tags": []
     },
     "output_type": "display_data"
    },
    {
     "name": "stderr",
     "output_type": "stream",
     "text": [
      "ERROR:absl:Statistics generation doesn't work for nested structures yet\n"
     ]
    },
    {
     "name": "stdout",
     "output_type": "stream",
     "text": [
      "\n",
      "\u001b[1mDataset amazon_us_reviews downloaded and prepared to /root/tensorflow_datasets/amazon_us_reviews/Mobile_Electronics_v1_00/0.1.0. Subsequent calls will reuse this data.\u001b[0m\n"
     ]
    }
   ],
   "source": [
    "dataset, info = tfds.load('amazon_us_reviews/Mobile_Electronics_v1_00', with_info=True)\n",
    "\n",
    "train_dataset=dataset['train']"
   ]
  },
  {
   "cell_type": "code",
   "execution_count": 9,
   "metadata": {
    "colab": {
     "base_uri": "https://localhost:8080/",
     "height": 955
    },
    "colab_type": "code",
    "id": "Oa0dyreCdS88",
    "outputId": "0e083ec1-a95e-47cf-fbbb-b280327b6f91"
   },
   "outputs": [
    {
     "data": {
      "text/plain": [
       "tfds.core.DatasetInfo(\n",
       "    name='amazon_us_reviews',\n",
       "    version=0.1.0,\n",
       "    description='Amazon Customer Reviews (a.k.a. Product Reviews) is one of Amazons iconic products. In a period of over two decades since the first review in 1995, millions of Amazon customers have contributed over a hundred million reviews to express opinions and describe their experiences regarding products on the Amazon.com website. This makes Amazon Customer Reviews a rich source of information for academic researchers in the fields of Natural Language Processing (NLP), Information Retrieval (IR), and Machine Learning (ML), amongst others. Accordingly, we are releasing this data to further research in multiple disciplines related to understanding customer product experiences. Specifically, this dataset was constructed to represent a sample of customer evaluations and opinions, variation in the perception of a product across geographical regions, and promotional intent or bias in reviews.\n",
       "\n",
       "Over 130+ million customer reviews are available to researchers as part of this release. The data is available in TSV files in the amazon-reviews-pds S3 bucket in AWS US East Region. Each line in the data files corresponds to an individual review (tab delimited, with no quote and escape characters).\n",
       "\n",
       "Each Dataset contains the following columns : \n",
       "  marketplace       - 2 letter country code of the marketplace where the review was written.\n",
       "  customer_id       - Random identifier that can be used to aggregate reviews written by a single author.\n",
       "  review_id         - The unique ID of the review.\n",
       "  product_id        - The unique Product ID the review pertains to. In the multilingual dataset the reviews\n",
       "                      for the same product in different countries can be grouped by the same product_id.\n",
       "  product_parent    - Random identifier that can be used to aggregate reviews for the same product.\n",
       "  product_title     - Title of the product.\n",
       "  product_category  - Broad product category that can be used to group reviews \n",
       "                      (also used to group the dataset into coherent parts).\n",
       "  star_rating       - The 1-5 star rating of the review.\n",
       "  helpful_votes     - Number of helpful votes.\n",
       "  total_votes       - Number of total votes the review received.\n",
       "  vine              - Review was written as part of the Vine program.\n",
       "  verified_purchase - The review is on a verified purchase.\n",
       "  review_headline   - The title of the review.\n",
       "  review_body       - The review text.\n",
       "  review_date       - The date the review was written.\n",
       "',\n",
       "    homepage='https://s3.amazonaws.com/amazon-reviews-pds/readme.html',\n",
       "    features=FeaturesDict({\n",
       "        'data': FeaturesDict({\n",
       "            'customer_id': tf.string,\n",
       "            'helpful_votes': tf.int32,\n",
       "            'marketplace': tf.string,\n",
       "            'product_category': tf.string,\n",
       "            'product_id': tf.string,\n",
       "            'product_parent': tf.string,\n",
       "            'product_title': tf.string,\n",
       "            'review_body': tf.string,\n",
       "            'review_date': tf.string,\n",
       "            'review_headline': tf.string,\n",
       "            'review_id': tf.string,\n",
       "            'star_rating': tf.int32,\n",
       "            'total_votes': tf.int32,\n",
       "            'verified_purchase': ClassLabel(shape=(), dtype=tf.int64, num_classes=2),\n",
       "            'vine': ClassLabel(shape=(), dtype=tf.int64, num_classes=2),\n",
       "        }),\n",
       "    }),\n",
       "    total_num_examples=104975,\n",
       "    splits={\n",
       "        'train': 104975,\n",
       "    },\n",
       "    supervised_keys=None,\n",
       "    citation=\"\"\"\"\"\",\n",
       "    redistribution_info=,\n",
       ")"
      ]
     },
     "execution_count": 9,
     "metadata": {
      "tags": []
     },
     "output_type": "execute_result"
    }
   ],
   "source": [
    "info"
   ]
  },
  {
   "cell_type": "markdown",
   "metadata": {},
   "source": [
    "### For the project, 'review_body' is the independent feature and 'star_rating' (converted to sentiment) is the target feature"
   ]
  },
  {
   "cell_type": "code",
   "execution_count": 10,
   "metadata": {
    "colab": {
     "base_uri": "https://localhost:8080/",
     "height": 54
    },
    "colab_type": "code",
    "id": "BJ_gd9vUdB5b",
    "outputId": "a2c3cc9d-540e-4068-c4d0-5aa9db9f9f05"
   },
   "outputs": [
    {
     "name": "stdout",
     "output_type": "stream",
     "text": [
      "<DatasetV1Adapter shapes: {data: {customer_id: (), helpful_votes: (), marketplace: (), product_category: (), product_id: (), product_parent: (), product_title: (), review_body: (), review_date: (), review_headline: (), review_id: (), star_rating: (), total_votes: (), verified_purchase: (), vine: ()}}, types: {data: {customer_id: tf.string, helpful_votes: tf.int32, marketplace: tf.string, product_category: tf.string, product_id: tf.string, product_parent: tf.string, product_title: tf.string, review_body: tf.string, review_date: tf.string, review_headline: tf.string, review_id: tf.string, star_rating: tf.int32, total_votes: tf.int32, verified_purchase: tf.int64, vine: tf.int64}}>\n"
     ]
    }
   ],
   "source": [
    "print(train_dataset)"
   ]
  },
  {
   "cell_type": "code",
   "execution_count": 11,
   "metadata": {
    "colab": {
     "base_uri": "https://localhost:8080/",
     "height": 34
    },
    "colab_type": "code",
    "id": "ocf0yxRrddOr",
    "outputId": "30696975-c13f-476f-a48c-2c6b744f689d"
   },
   "outputs": [
    {
     "data": {
      "text/plain": [
       "104975"
      ]
     },
     "execution_count": 11,
     "metadata": {
      "tags": []
     },
     "output_type": "execute_result"
    }
   ],
   "source": [
    "len(list(train_dataset))"
   ]
  },
  {
   "cell_type": "code",
   "execution_count": null,
   "metadata": {
    "colab": {},
    "colab_type": "code",
    "id": "8hDw7w19dgiy"
   },
   "outputs": [],
   "source": [
    "buffer_size=30000\n",
    "batch_size=128"
   ]
  },
  {
   "cell_type": "code",
   "execution_count": null,
   "metadata": {
    "colab": {},
    "colab_type": "code",
    "id": "9tfF8EOddnqN"
   },
   "outputs": [],
   "source": [
    "train_dataset=train_dataset.shuffle(buffer_size,reshuffle_each_iteration=False)"
   ]
  },
  {
   "cell_type": "code",
   "execution_count": 13,
   "metadata": {
    "colab": {
     "base_uri": "https://localhost:8080/",
     "height": 71
    },
    "colab_type": "code",
    "id": "xuEe1-zbeBLD",
    "outputId": "c3fff717-af1b-40f4-b326-16ec35695d3a"
   },
   "outputs": [
    {
     "name": "stdout",
     "output_type": "stream",
     "text": [
      "{'data': {'customer_id': <tf.Tensor: shape=(), dtype=string, numpy=b'20980074'>, 'helpful_votes': <tf.Tensor: shape=(), dtype=int32, numpy=0>, 'marketplace': <tf.Tensor: shape=(), dtype=string, numpy=b'US'>, 'product_category': <tf.Tensor: shape=(), dtype=string, numpy=b'Mobile_Electronics'>, 'product_id': <tf.Tensor: shape=(), dtype=string, numpy=b'B00D1847NE'>, 'product_parent': <tf.Tensor: shape=(), dtype=string, numpy=b'274617424'>, 'product_title': <tf.Tensor: shape=(), dtype=string, numpy=b'Teenage Mutant Ninja Turtles Boombox CD Player with Text Display, AM/FM Stereo Radio, Repeat Function'>, 'review_body': <tf.Tensor: shape=(), dtype=string, numpy=b'Does not work'>, 'review_date': <tf.Tensor: shape=(), dtype=string, numpy=b'2015-01-09'>, 'review_headline': <tf.Tensor: shape=(), dtype=string, numpy=b'One Star'>, 'review_id': <tf.Tensor: shape=(), dtype=string, numpy=b'R1OVS0D6SEXPW7'>, 'star_rating': <tf.Tensor: shape=(), dtype=int32, numpy=1>, 'total_votes': <tf.Tensor: shape=(), dtype=int32, numpy=0>, 'verified_purchase': <tf.Tensor: shape=(), dtype=int64, numpy=0>, 'vine': <tf.Tensor: shape=(), dtype=int64, numpy=1>}}\n",
      "{'data': {'customer_id': <tf.Tensor: shape=(), dtype=string, numpy=b'779273'>, 'helpful_votes': <tf.Tensor: shape=(), dtype=int32, numpy=0>, 'marketplace': <tf.Tensor: shape=(), dtype=string, numpy=b'US'>, 'product_category': <tf.Tensor: shape=(), dtype=string, numpy=b'Mobile_Electronics'>, 'product_id': <tf.Tensor: shape=(), dtype=string, numpy=b'B00KMO6DYG'>, 'product_parent': <tf.Tensor: shape=(), dtype=string, numpy=b'397452138'>, 'product_title': <tf.Tensor: shape=(), dtype=string, numpy=b'4 Gauge Amp Kit Amplifier Install Wiring Complete 4 Ga Installation Cables 2500W'>, 'review_body': <tf.Tensor: shape=(), dtype=string, numpy=b'This is a great wiring kit i used it to set up my Pyle 2000 watt amp to 2 alpine subs and worked just fine. im not sure about the power cord and its length because my battery is in the back but the ground cord is a bit short and thats its only flaw and that why i gave it 4 stars. great kit'>, 'review_date': <tf.Tensor: shape=(), dtype=string, numpy=b'2015-08-06'>, 'review_headline': <tf.Tensor: shape=(), dtype=string, numpy=b'Great kit'>, 'review_id': <tf.Tensor: shape=(), dtype=string, numpy=b'R9VSD0ET8FERB'>, 'star_rating': <tf.Tensor: shape=(), dtype=int32, numpy=4>, 'total_votes': <tf.Tensor: shape=(), dtype=int32, numpy=0>, 'verified_purchase': <tf.Tensor: shape=(), dtype=int64, numpy=0>, 'vine': <tf.Tensor: shape=(), dtype=int64, numpy=1>}}\n"
     ]
    }
   ],
   "source": [
    "for reviews in train_dataset.take(2):\n",
    "  print(reviews)"
   ]
  },
  {
   "cell_type": "markdown",
   "metadata": {},
   "source": [
    "## Coverting 'star_rating' into sentiment:\n",
    "### Ratings 4 & 5 are considered as positive while the rest considered as negative"
   ]
  },
  {
   "cell_type": "code",
   "execution_count": 14,
   "metadata": {
    "colab": {
     "base_uri": "https://localhost:8080/",
     "height": 547
    },
    "colab_type": "code",
    "id": "R2qB1VxVeT6o",
    "outputId": "b54ce20f-0f27-4cd7-f7a2-1171a2a563d1"
   },
   "outputs": [
    {
     "name": "stdout",
     "output_type": "stream",
     "text": [
      "b'Does not work'\n",
      "tf.Tensor(1, shape=(), dtype=int32)\n",
      "0\n",
      "b'This is a great wiring kit i used it to set up my Pyle 2000 watt amp to 2 alpine subs and worked just fine. im not sure about the power cord and its length because my battery is in the back but the ground cord is a bit short and thats its only flaw and that why i gave it 4 stars. great kit'\n",
      "tf.Tensor(4, shape=(), dtype=int32)\n",
      "1\n",
      "b'It works great so much faster than USB charger..Buy it! You will be glad you did!'\n",
      "tf.Tensor(5, shape=(), dtype=int32)\n",
      "1\n",
      "b'This product was purchased to hold a monitor on a desk, which is connected to a security camera at a door of our business. It serves our purpose perfectly.'\n",
      "tf.Tensor(5, shape=(), dtype=int32)\n",
      "1\n",
      "b\"it works but it has really bad sound quality. the bass doesn't work almost at all\"\n",
      "tf.Tensor(3, shape=(), dtype=int32)\n",
      "0\n",
      "b\"Excellent product !!!<br />Easy to install and performs flawlessly.<br />Video and audio is clear and GPS map pinpoints the exact vehicle location.<br />I'm thinking of getting another one for my wifes' car.<br />Dealer product support is excellent too !!!\"\n",
      "tf.Tensor(5, shape=(), dtype=int32)\n",
      "1\n",
      "b\"This product works great so far. I have been using it for a month and there have been no problems. Yes the cord is thicker than the charging cord that comes with your phone, but who cares? It's very long and that is what I wanted. I can use iPhone while charging several feet away. I would recommend this product.\"\n",
      "tf.Tensor(5, shape=(), dtype=int32)\n",
      "1\n",
      "b'The unit sort of works. It is wildly inaccurate indicating direction. The unit is fairly inexpensive, but you get what you pay for. It also takes several minutes to sync up with the satellites. I would not purchase this product again.'\n",
      "tf.Tensor(2, shape=(), dtype=int32)\n",
      "0\n",
      "b'I fly in the far North of Alaska in the Brooks Range, the upper Yukon Valley and North and West of Bettles. I do this for pleasure but danger always is lurking on the most familiar gravel bar or remote lake and I am frequently more than 500 miles from the nearest outpost of civilization. I use and count on the Spot device to let my wife and my friends know my where-abouts and that I have landed safely. My Spot has never failed me and has sent many perfect localization messages. I have reviewed the Spot messages after returning, I am in awe of the accuracy of the location on google maps.<br />For those of us who are pushing the envelope of safe return this device has changed the game and allowed us to fly with an extra margin of safety and given those who stay behind the reassurance of knowing that we are safe. I am grateful as are many of my pilot buddies for this essential and sophisticated device and service.'\n",
      "tf.Tensor(5, shape=(), dtype=int32)\n",
      "1\n",
      "b\"good sound, looks good, easy to use, but doesn't hold the weight of the iphone. I have to lean it on the ashtray.\"\n",
      "tf.Tensor(4, shape=(), dtype=int32)\n",
      "1\n"
     ]
    }
   ],
   "source": [
    "for reviews in train_dataset.take(10):\n",
    "  review_text=reviews['data']\n",
    "  print(review_text.get('review_body').numpy())\n",
    "  print(review_text.get('star_rating'))\n",
    "  print(tf.where(review_text.get('star_rating')>3,1,0).numpy())"
   ]
  },
  {
   "cell_type": "code",
   "execution_count": 15,
   "metadata": {
    "colab": {
     "base_uri": "https://localhost:8080/",
     "height": 34
    },
    "colab_type": "code",
    "id": "eLRm0gq4jDse",
    "outputId": "db5210f7-f856-49aa-8356-eb44d092cf36"
   },
   "outputs": [
    {
     "data": {
      "text/plain": [
       "tensorflow.python.data.ops.dataset_ops.DatasetV1Adapter"
      ]
     },
     "execution_count": 15,
     "metadata": {
      "tags": []
     },
     "output_type": "execute_result"
    }
   ],
   "source": [
    "type(train_dataset)"
   ]
  },
  {
   "cell_type": "markdown",
   "metadata": {},
   "source": [
    "## Data preprocessing:\n",
    "### Tokenization, encoding and padding"
   ]
  },
  {
   "cell_type": "code",
   "execution_count": null,
   "metadata": {
    "colab": {},
    "colab_type": "code",
    "id": "9yvOBFKOiNe-"
   },
   "outputs": [],
   "source": [
    "tokenizer=tfds.features.text.Tokenizer()\n",
    "\n",
    "vocab_set=set()\n"
   ]
  },
  {
   "cell_type": "code",
   "execution_count": null,
   "metadata": {
    "colab": {},
    "colab_type": "code",
    "id": "xeSt4bwOjaM4"
   },
   "outputs": [],
   "source": [
    "for _, reviews in train_dataset.enumerate():\n",
    "  review_text=reviews['data']\n",
    "  reviews_tokens=tokenizer.tokenize(review_text.get('review_body').numpy())\n",
    "  vocab_set.update(reviews_tokens)\n"
   ]
  },
  {
   "cell_type": "code",
   "execution_count": 18,
   "metadata": {
    "colab": {
     "base_uri": "https://localhost:8080/",
     "height": 34
    },
    "colab_type": "code",
    "id": "Oa2n6gKhjvSs",
    "outputId": "33b6dc27-168c-41f7-dce1-4f257585e8c8"
   },
   "outputs": [
    {
     "data": {
      "text/plain": [
       "73738"
      ]
     },
     "execution_count": 18,
     "metadata": {
      "tags": []
     },
     "output_type": "execute_result"
    }
   ],
   "source": [
    "vocab_size= len(vocab_set)\n",
    "vocab_size"
   ]
  },
  {
   "cell_type": "code",
   "execution_count": null,
   "metadata": {
    "colab": {},
    "colab_type": "code",
    "id": "_UZ9vCMxj3mW"
   },
   "outputs": [],
   "source": [
    "encoder=tfds.features.text.TokenTextEncoder(vocab_set)"
   ]
  },
  {
   "cell_type": "code",
   "execution_count": 22,
   "metadata": {
    "colab": {
     "base_uri": "https://localhost:8080/",
     "height": 207
    },
    "colab_type": "code",
    "id": "fPARvnv5kL4L",
    "outputId": "0e357fc9-2d26-4881-bf09-0226711acdc8"
   },
   "outputs": [
    {
     "name": "stdout",
     "output_type": "stream",
     "text": [
      "b'Does not work'\n",
      "[22924, 7509, 60067]\n",
      "b'This is a great wiring kit i used it to set up my Pyle 2000 watt amp to 2 alpine subs and worked just fine. im not sure about the power cord and its length because my battery is in the back but the ground cord is a bit short and thats its only flaw and that why i gave it 4 stars. great kit'\n",
      "[30805, 43602, 73389, 50720, 7432, 49569, 12306, 29679, 32969, 41542, 57458, 43647, 2719, 2936, 13195, 7189, 27253, 41542, 62376, 64460, 27314, 11456, 54725, 8075, 63711, 60002, 7509, 16639, 27855, 68729, 29353, 3728, 11456, 11373, 61680, 70996, 2719, 67359, 43602, 56381, 68729, 64517, 9790, 68729, 64814, 3728, 43602, 73389, 69739, 18161, 11456, 68142, 11373, 42355, 17364, 11456, 71960, 7782, 12306, 31500, 32969, 69389, 40604, 50720, 49569]\n",
      "b'It works great so much faster than USB charger..Buy it! You will be glad you did!'\n",
      "[49314, 54898, 50720, 22412, 30494, 73663, 3775, 44907, 52219, 6413, 32969, 31308, 35230, 59136, 62477, 37920, 25074]\n",
      "b'This product was purchased to hold a monitor on a desk, which is connected to a security camera at a door of our business. It serves our purpose perfectly.'\n",
      "[30805, 65177, 72370, 48484, 41542, 39933, 73389, 18496, 13071, 73389, 29220, 13410, 43602, 45414, 41542, 73389, 68765, 45726, 23034, 73389, 68698, 42327, 7663, 30533, 49314, 68317, 7663, 27220, 73048]\n",
      "b\"it works but it has really bad sound quality. the bass doesn't work almost at all\"\n",
      "[32969, 54898, 9790, 32969, 54740, 49098, 20677, 52932, 7026, 68729, 50265, 55075, 64489, 60067, 715, 23034, 58471]\n"
     ]
    }
   ],
   "source": [
    "for reviews in train_dataset.take(5):\n",
    "  review_text=reviews['data']\n",
    "  print(review_text.get('review_body').numpy())\n",
    "  encoded_example=encoder.encode(review_text.get('review_body').numpy())\n",
    "  print(encoded_example)"
   ]
  },
  {
   "cell_type": "code",
   "execution_count": 23,
   "metadata": {
    "colab": {
     "base_uri": "https://localhost:8080/",
     "height": 306
    },
    "colab_type": "code",
    "id": "tVpsdZFQkzPL",
    "outputId": "f446e19b-2ffc-4783-dc8e-bb1432ec7cc0"
   },
   "outputs": [
    {
     "name": "stdout",
     "output_type": "stream",
     "text": [
      "32969 = it\n",
      "54898 = works\n",
      "9790 = but\n",
      "32969 = it\n",
      "54740 = has\n",
      "49098 = really\n",
      "20677 = bad\n",
      "52932 = sound\n",
      "7026 = quality\n",
      "68729 = the\n",
      "50265 = bass\n",
      "55075 = doesn\n",
      "64489 = t\n",
      "60067 = work\n",
      "715 = almost\n",
      "23034 = at\n",
      "58471 = all\n"
     ]
    }
   ],
   "source": [
    "for index in encoded_example:\n",
    "  print('{} = {}'.format(index, encoder.decode([index])))"
   ]
  },
  {
   "cell_type": "code",
   "execution_count": null,
   "metadata": {
    "colab": {},
    "colab_type": "code",
    "id": "Jx9D_zg5lTE3"
   },
   "outputs": [],
   "source": [
    "def encode(text,label):\n",
    "  encoded_text=encoder.encode(text.numpy())\n",
    "  label=tf.where(label>3,1,0)\n",
    "  return encoded_text, label"
   ]
  },
  {
   "cell_type": "code",
   "execution_count": null,
   "metadata": {
    "colab": {},
    "colab_type": "code",
    "id": "eHEf3_gO2Tjq"
   },
   "outputs": [],
   "source": [
    "def encode_map(tensor):\n",
    "  text = tensor['data'].get('review_body')\n",
    "  label = tensor['data'].get('star_rating')\n",
    "\n",
    "  encoded_text, label = tf.py_function(encode, inp=[text, label],Tout=(tf.int64, tf.int32))\n",
    "\n",
    "  encoded_text.set_shape([None])\n",
    "  label.set_shape([])\n",
    "  return encoded_text, label\n"
   ]
  },
  {
   "cell_type": "code",
   "execution_count": null,
   "metadata": {
    "colab": {},
    "colab_type": "code",
    "id": "KoOoWMsj3flw"
   },
   "outputs": [],
   "source": [
    "encoded_data  = train_dataset.map(encode_map)"
   ]
  },
  {
   "cell_type": "code",
   "execution_count": 33,
   "metadata": {
    "colab": {
     "base_uri": "https://localhost:8080/",
     "height": 170
    },
    "colab_type": "code",
    "id": "20RwAepR4Aj6",
    "outputId": "7536feca-9a57-4102-d0db-11701c8d6947"
   },
   "outputs": [
    {
     "name": "stdout",
     "output_type": "stream",
     "text": [
      "[22924  7509 60067]\n",
      "0\n",
      "[30805 43602 73389 50720  7432 49569 12306 29679 32969 41542 57458 43647\n",
      "  2719  2936 13195  7189 27253 41542 62376 64460 27314 11456 54725  8075\n",
      " 63711 60002  7509 16639 27855 68729 29353  3728 11456 11373 61680 70996\n",
      "  2719 67359 43602 56381 68729 64517  9790 68729 64814  3728 43602 73389\n",
      " 69739 18161 11456 68142 11373 42355 17364 11456 71960  7782 12306 31500\n",
      " 32969 69389 40604 50720 49569]\n",
      "1\n"
     ]
    }
   ],
   "source": [
    "for a,b in encoded_data.take(2):\n",
    "  print(a.numpy())\n",
    "  print(b.numpy())"
   ]
  },
  {
   "cell_type": "code",
   "execution_count": null,
   "metadata": {
    "colab": {},
    "colab_type": "code",
    "id": "-660Guum4dUM"
   },
   "outputs": [],
   "source": [
    "take_size=10000"
   ]
  },
  {
   "cell_type": "code",
   "execution_count": null,
   "metadata": {
    "colab": {},
    "colab_type": "code",
    "id": "tUP1bvPx4mZQ"
   },
   "outputs": [],
   "source": [
    "train_data = encoded_data.skip(take_size).shuffle(buffer_size)\n",
    "train_data = train_data.padded_batch(batch_size)\n",
    "\n",
    "test_data = encoded_data.take(take_size)\n",
    "test_data = test_data.padded_batch(batch_size)"
   ]
  },
  {
   "cell_type": "code",
   "execution_count": null,
   "metadata": {
    "colab": {},
    "colab_type": "code",
    "id": "Kv2Ktfpimoij"
   },
   "outputs": [],
   "source": [
    "vocab_size+=1"
   ]
  },
  {
   "cell_type": "code",
   "execution_count": 37,
   "metadata": {
    "colab": {
     "base_uri": "https://localhost:8080/",
     "height": 51
    },
    "colab_type": "code",
    "id": "8PIGOxME5OcT",
    "outputId": "779ea9d0-7f46-4894-a9e5-2f65e0911058"
   },
   "outputs": [
    {
     "data": {
      "text/plain": [
       "(<tf.Tensor: shape=(1006,), dtype=int64, numpy=array([22924,  7509, 60067, ...,     0,     0,     0])>,\n",
       " <tf.Tensor: shape=(), dtype=int32, numpy=0>)"
      ]
     },
     "execution_count": 37,
     "metadata": {
      "tags": []
     },
     "output_type": "execute_result"
    }
   ],
   "source": [
    "sample_text, sample_labels = next(iter(test_data))\n",
    "sample_text[0], sample_labels[0]"
   ]
  },
  {
   "cell_type": "code",
   "execution_count": 42,
   "metadata": {
    "colab": {
     "base_uri": "https://localhost:8080/",
     "height": 102
    },
    "colab_type": "code",
    "id": "3g_u3rrW4jmX",
    "outputId": "ad61711b-88fa-489a-a719-9351e73f08e7"
   },
   "outputs": [
    {
     "name": "stdout",
     "output_type": "stream",
     "text": [
      "[46 82]\n",
      "[39 89]\n",
      "[85 43]\n",
      "[37 91]\n",
      "[95 33]\n"
     ]
    }
   ],
   "source": [
    "for a,b in test_data.take(5):\n",
    "  print(tf.unique_with_counts(b)[2].numpy())"
   ]
  },
  {
   "cell_type": "markdown",
   "metadata": {},
   "source": [
    "## Creating the model"
   ]
  },
  {
   "cell_type": "code",
   "execution_count": null,
   "metadata": {
    "colab": {},
    "colab_type": "code",
    "id": "dLu17jvb7O_A"
   },
   "outputs": [],
   "source": [
    "model = tf.keras.Sequential()\n",
    "model.add(tf.keras.layers.Embedding(vocab_size, 128))\n",
    "model.add(tf.keras.layers.Bidirectional(tf.keras.layers.LSTM(128, return_sequences=True)))\n",
    "model.add(tf.keras.layers.Bidirectional(tf.keras.layers.LSTM(64)))\n",
    "for units in [64,64]:\n",
    "  model.add(tf.keras.layers.Dense(units, activation='relu'))\n",
    "model.add(tf.keras.layers.Dense(1))"
   ]
  },
  {
   "cell_type": "code",
   "execution_count": null,
   "metadata": {
    "colab": {},
    "colab_type": "code",
    "id": "kV4OahSI9ZCY"
   },
   "outputs": [],
   "source": [
    "logdir = os.path.join(\"/tmp/logs\",datetime.datetime.now().strftime(\"%Y%M%D-%H%M%S\"))\n",
    "tensorboard_callback = tf.keras.callbacks.TensorBoard(logdir, histogram_freq=1)\n",
    "checkpointer = tf.keras.callbacks.ModelCheckpoint(filepath='/tmp/sentiment_analysis.hdf5',verbose=1, save_best_only=True)\n"
   ]
  },
  {
   "cell_type": "code",
   "execution_count": null,
   "metadata": {
    "colab": {},
    "colab_type": "code",
    "id": "gEGSuHd7-5pA"
   },
   "outputs": [],
   "source": [
    "model.compile(optimizer='adam', loss=tf.keras.losses.BinaryCrossentropy(from_logits=True), metrics=['accuracy'])"
   ]
  },
  {
   "cell_type": "code",
   "execution_count": 49,
   "metadata": {
    "colab": {
     "base_uri": "https://localhost:8080/",
     "height": 357
    },
    "colab_type": "code",
    "id": "Y37cQQKm_P8i",
    "outputId": "0bc3892f-06be-4c6f-9a1d-625fca2228d5"
   },
   "outputs": [
    {
     "name": "stdout",
     "output_type": "stream",
     "text": [
      "Model: \"sequential\"\n",
      "_________________________________________________________________\n",
      "Layer (type)                 Output Shape              Param #   \n",
      "=================================================================\n",
      "embedding (Embedding)        (None, None, 128)         9438592   \n",
      "_________________________________________________________________\n",
      "bidirectional (Bidirectional (None, None, 256)         263168    \n",
      "_________________________________________________________________\n",
      "bidirectional_1 (Bidirection (None, 128)               164352    \n",
      "_________________________________________________________________\n",
      "dense (Dense)                (None, 64)                8256      \n",
      "_________________________________________________________________\n",
      "dense_1 (Dense)              (None, 64)                4160      \n",
      "_________________________________________________________________\n",
      "dense_2 (Dense)              (None, 1)                 65        \n",
      "=================================================================\n",
      "Total params: 9,878,593\n",
      "Trainable params: 9,878,593\n",
      "Non-trainable params: 0\n",
      "_________________________________________________________________\n"
     ]
    }
   ],
   "source": [
    "model.summary()"
   ]
  },
  {
   "cell_type": "markdown",
   "metadata": {},
   "source": [
    "## Training the model"
   ]
  },
  {
   "cell_type": "code",
   "execution_count": 50,
   "metadata": {
    "colab": {
     "base_uri": "https://localhost:8080/",
     "height": 445
    },
    "colab_type": "code",
    "id": "NOFqZ4CM_S15",
    "outputId": "e0b6438b-149f-4b37-f135-437656b967a7"
   },
   "outputs": [
    {
     "name": "stdout",
     "output_type": "stream",
     "text": [
      "Epoch 1/4\n",
      "  1/742 [..............................] - ETA: 1:58 - loss: 0.6951 - accuracy: 0.2422WARNING:tensorflow:From /usr/local/lib/python3.6/dist-packages/tensorflow/python/ops/summary_ops_v2.py:1277: stop (from tensorflow.python.eager.profiler) is deprecated and will be removed after 2020-07-01.\n",
      "Instructions for updating:\n",
      "use `tf.profiler.experimental.stop` instead.\n"
     ]
    },
    {
     "name": "stderr",
     "output_type": "stream",
     "text": [
      "WARNING:tensorflow:From /usr/local/lib/python3.6/dist-packages/tensorflow/python/ops/summary_ops_v2.py:1277: stop (from tensorflow.python.eager.profiler) is deprecated and will be removed after 2020-07-01.\n",
      "Instructions for updating:\n",
      "use `tf.profiler.experimental.stop` instead.\n"
     ]
    },
    {
     "name": "stdout",
     "output_type": "stream",
     "text": [
      "  2/742 [..............................] - ETA: 7:08 - loss: 0.6912 - accuracy: 0.2930WARNING:tensorflow:Callbacks method `on_train_batch_end` is slow compared to the batch time (batch time: 0.3839s vs `on_train_batch_end` time: 0.6148s). Check your callbacks.\n"
     ]
    },
    {
     "name": "stderr",
     "output_type": "stream",
     "text": [
      "WARNING:tensorflow:Callbacks method `on_train_batch_end` is slow compared to the batch time (batch time: 0.3839s vs `on_train_batch_end` time: 0.6148s). Check your callbacks.\n"
     ]
    },
    {
     "name": "stdout",
     "output_type": "stream",
     "text": [
      "742/742 [==============================] - ETA: 0s - loss: 0.3490 - accuracy: 0.8399\n",
      "Epoch 00001: val_loss improved from inf to 0.36407, saving model to /tmp/sentiment_analysis.hdf5\n",
      "742/742 [==============================] - 647s 872ms/step - loss: 0.3490 - accuracy: 0.8399 - val_loss: 0.3641 - val_accuracy: 0.8143\n",
      "Epoch 2/4\n",
      "742/742 [==============================] - ETA: 0s - loss: 0.2883 - accuracy: 0.8769\n",
      "Epoch 00002: val_loss improved from 0.36407 to 0.29348, saving model to /tmp/sentiment_analysis.hdf5\n",
      "742/742 [==============================] - 647s 872ms/step - loss: 0.2883 - accuracy: 0.8769 - val_loss: 0.2935 - val_accuracy: 0.8833\n",
      "Epoch 3/4\n",
      "742/742 [==============================] - ETA: 0s - loss: 0.2244 - accuracy: 0.9101\n",
      "Epoch 00003: val_loss improved from 0.29348 to 0.26821, saving model to /tmp/sentiment_analysis.hdf5\n",
      "742/742 [==============================] - 649s 875ms/step - loss: 0.2244 - accuracy: 0.9101 - val_loss: 0.2682 - val_accuracy: 0.8913\n",
      "Epoch 4/4\n",
      "742/742 [==============================] - ETA: 0s - loss: 0.1712 - accuracy: 0.9334\n",
      "Epoch 00004: val_loss did not improve from 0.26821\n",
      "742/742 [==============================] - 647s 871ms/step - loss: 0.1712 - accuracy: 0.9334 - val_loss: 0.2687 - val_accuracy: 0.8889\n"
     ]
    }
   ],
   "source": [
    "history=model.fit(train_data, epochs=4, validation_data=test_data, callbacks=[tensorboard_callback, checkpointer])"
   ]
  },
  {
   "cell_type": "code",
   "execution_count": null,
   "metadata": {
    "colab": {},
    "colab_type": "code",
    "id": "8G4ROAje_qu3"
   },
   "outputs": [],
   "source": [
    "model.save('/tmp/final_sentiment_analysis.hdf5')"
   ]
  },
  {
   "cell_type": "code",
   "execution_count": 54,
   "metadata": {
    "colab": {
     "base_uri": "https://localhost:8080/",
     "height": 51
    },
    "colab_type": "code",
    "id": "bH9ZZNs-M2dM",
    "outputId": "f1fe9e43-9415-4eb2-9d71-5bba9ca78b77"
   },
   "outputs": [
    {
     "name": "stdout",
     "output_type": "stream",
     "text": [
      "-rw-r--r-- 1 root root 118632960 Jun  5 15:34 /tmp/sentiment_analysis.hdf5\n",
      "-rw-r--r-- 1 root root 118632960 Jun  5 15:56 /tmp/final_sentiment_analysis.hdf5\n"
     ]
    }
   ],
   "source": [
    "!ls -alrt /tmp/*.hdf5"
   ]
  },
  {
   "cell_type": "markdown",
   "metadata": {},
   "source": [
    "## Evaluating model on test data"
   ]
  },
  {
   "cell_type": "code",
   "execution_count": 58,
   "metadata": {
    "colab": {
     "base_uri": "https://localhost:8080/",
     "height": 34
    },
    "colab_type": "code",
    "id": "TlIhr4J5QI5c",
    "outputId": "651ac97d-432f-45c3-d902-eaf53c65ce07"
   },
   "outputs": [
    {
     "name": "stdout",
     "output_type": "stream",
     "text": [
      "79/79 [==============================] - 32s 399ms/step - loss: 0.2687 - accuracy: 0.8889\n"
     ]
    }
   ],
   "source": [
    "eval_loss, eval_acc = model.evaluate(test_data)"
   ]
  },
  {
   "cell_type": "code",
   "execution_count": 60,
   "metadata": {
    "colab": {
     "base_uri": "https://localhost:8080/",
     "height": 51
    },
    "colab_type": "code",
    "id": "evATUC9kNRef",
    "outputId": "35ecbfcf-9bcd-455f-a8c2-31a2ae756c19"
   },
   "outputs": [
    {
     "name": "stdout",
     "output_type": "stream",
     "text": [
      "\n",
      "Eval loss: 0.269, Eval accuracy: 0.889\n"
     ]
    }
   ],
   "source": [
    "print('\\nEval loss: {:.3f}, Eval accuracy: {:.3f}'.format(eval_loss, eval_acc))"
   ]
  },
  {
   "cell_type": "code",
   "execution_count": 61,
   "metadata": {
    "colab": {
     "base_uri": "https://localhost:8080/",
     "height": 1000
    },
    "colab_type": "code",
    "id": "PA0_QsETNfXv",
    "outputId": "0a1cd422-6680-4ffa-9b1b-6c523de65714"
   },
   "outputs": [
    {
     "name": "stdout",
     "output_type": "stream",
     "text": [
      "tf.Tensor(\n",
      "[0 1 1 1 0 1 1 0 1 1 0 0 0 1 1 1 0 1 1 1 0 0 0 1 1 1 1 1 1 0 1 0 1 1 1 0 1\n",
      " 1 1 1 1 1 0 0 1 0 1 0 1 1 0 1 1 0 0 0 0 1 1 1 1 0 1 1 0 1 0 1 1 0 0 0 0 0\n",
      " 1 1 1 1 1 1 1 1 1 1 0 1 1 1 1 1 1 1 0 1 0 1 1 1 0 0 0 1 1 1 0 1 0 0 0 0 0\n",
      " 1 1 1 1 1 1 1 1 0 0 0 0 1 1 1 1 1], shape=(128,), dtype=int32)\n",
      "[[-3.3299603e+00]\n",
      " [ 3.3128114e+00]\n",
      " [ 4.7570729e+00]\n",
      " [ 4.0442767e+00]\n",
      " [-2.7930877e+00]\n",
      " [ 6.0782523e+00]\n",
      " [ 5.5232077e+00]\n",
      " [-4.5762739e+00]\n",
      " [ 4.1560049e+00]\n",
      " [ 7.5610244e-01]\n",
      " [ 1.1726655e+00]\n",
      " [-5.2075424e+00]\n",
      " [-1.4311044e+00]\n",
      " [ 5.2159505e+00]\n",
      " [ 5.9527740e+00]\n",
      " [ 6.0853448e+00]\n",
      " [-2.6263347e+00]\n",
      " [ 4.1106043e+00]\n",
      " [ 3.1260715e+00]\n",
      " [ 4.1701860e+00]\n",
      " [-8.7528676e-01]\n",
      " [-4.3448453e+00]\n",
      " [-3.7962959e+00]\n",
      " [ 3.2658777e+00]\n",
      " [ 5.0794473e+00]\n",
      " [ 5.5298352e+00]\n",
      " [ 5.7178974e+00]\n",
      " [-2.0749170e-01]\n",
      " [ 4.5437737e+00]\n",
      " [-4.1338620e+00]\n",
      " [ 4.4018679e+00]\n",
      " [ 9.7859250e-03]\n",
      " [ 3.6139286e+00]\n",
      " [ 5.1386042e+00]\n",
      " [ 1.0786406e+00]\n",
      " [-4.6290011e+00]\n",
      " [ 5.0226822e+00]\n",
      " [ 2.9366055e+00]\n",
      " [ 9.5504677e-01]\n",
      " [ 4.5409188e+00]\n",
      " [ 6.1277227e+00]\n",
      " [ 3.5831730e+00]\n",
      " [-4.9154196e+00]\n",
      " [-4.4731030e+00]\n",
      " [ 3.9694142e+00]\n",
      " [ 1.6190494e+00]\n",
      " [ 4.5601897e+00]\n",
      " [-2.1521096e+00]\n",
      " [ 1.5647368e+00]\n",
      " [ 4.0081677e+00]\n",
      " [-4.1490326e+00]\n",
      " [ 4.2633548e+00]\n",
      " [ 5.7971802e+00]\n",
      " [ 5.4234827e-01]\n",
      " [-1.3568099e-02]\n",
      " [-6.0592861e+00]\n",
      " [ 3.6293454e+00]\n",
      " [ 3.5756168e+00]\n",
      " [ 5.1821637e+00]\n",
      " [ 3.7101052e+00]\n",
      " [ 3.8845305e+00]\n",
      " [-4.9654055e-01]\n",
      " [ 4.0114207e+00]\n",
      " [ 5.1718507e+00]\n",
      " [-4.0119939e+00]\n",
      " [ 4.9527164e+00]\n",
      " [-2.5912101e+00]\n",
      " [ 2.3957301e-02]\n",
      " [ 5.7106481e+00]\n",
      " [-1.1690456e+00]\n",
      " [-2.3666909e+00]\n",
      " [ 3.5250382e+00]\n",
      " [-4.6968570e+00]\n",
      " [ 2.9015439e-03]\n",
      " [ 3.3596144e+00]\n",
      " [ 4.0725851e+00]\n",
      " [ 2.4440234e+00]\n",
      " [ 4.3892021e+00]\n",
      " [ 1.3387983e+00]\n",
      " [ 3.0157609e+00]\n",
      " [ 4.6824474e+00]\n",
      " [ 4.1373315e+00]\n",
      " [ 3.0708597e+00]\n",
      " [ 6.0000181e+00]\n",
      " [-3.8315184e+00]\n",
      " [ 4.9145699e+00]\n",
      " [ 1.3380122e+00]\n",
      " [ 2.1430910e+00]\n",
      " [ 6.1612067e+00]\n",
      " [ 4.0880232e+00]\n",
      " [ 4.9065843e+00]\n",
      " [ 5.2372422e+00]\n",
      " [-5.4202896e-01]\n",
      " [ 5.0545139e+00]\n",
      " [-4.0261116e+00]\n",
      " [ 1.9108393e+00]\n",
      " [ 4.6988301e+00]\n",
      " [ 4.5209093e+00]\n",
      " [-2.8618445e+00]\n",
      " [-4.8712635e+00]\n",
      " [-2.0772757e-01]\n",
      " [ 2.8252807e+00]\n",
      " [ 3.1509376e+00]\n",
      " [ 4.8078513e+00]\n",
      " [-1.8585242e+00]\n",
      " [ 5.3424220e+00]\n",
      " [-4.5234370e+00]\n",
      " [-2.4069002e+00]\n",
      " [-3.2887907e+00]\n",
      " [-5.2829499e+00]\n",
      " [-3.8803864e+00]\n",
      " [-8.6646724e-01]\n",
      " [-9.6158910e-01]\n",
      " [ 5.8758655e+00]\n",
      " [ 3.9839756e+00]\n",
      " [ 5.4925179e+00]\n",
      " [ 4.9379745e+00]\n",
      " [ 2.3291926e+00]\n",
      " [ 4.8997302e+00]\n",
      " [-4.6089697e+00]\n",
      " [-1.3300290e+00]\n",
      " [-3.2136073e+00]\n",
      " [-3.4785173e+00]\n",
      " [ 2.9516416e+00]\n",
      " [ 3.1373994e+00]\n",
      " [ 5.1345420e+00]\n",
      " [ 4.2395248e+00]\n",
      " [ 3.0313964e+00]]\n"
     ]
    }
   ],
   "source": [
    "for a,b in test_data.take(1):\n",
    "  print(b)\n",
    "  print(model.predict(a))"
   ]
  },
  {
   "cell_type": "markdown",
   "metadata": {},
   "source": [
    "## Plotting losses and accuracy"
   ]
  },
  {
   "cell_type": "code",
   "execution_count": null,
   "metadata": {
    "colab": {},
    "colab_type": "code",
    "id": "cfcVR2W8RKKN"
   },
   "outputs": [],
   "source": [
    "import matplotlib.pyplot as plt"
   ]
  },
  {
   "cell_type": "code",
   "execution_count": null,
   "metadata": {
    "colab": {},
    "colab_type": "code",
    "id": "qyK2USq1RXGT"
   },
   "outputs": [],
   "source": [
    "def plot_graphs(history,metric):\n",
    "  plt.plot(history.history[metric])\n",
    "  plt.plot(history.history['val_'+metric], '')\n",
    "  plt.xlabel(\"Epochs\")\n",
    "  plt.ylabel(metric)\n",
    "  plt.legend([metric, 'val_'+metric])\n",
    "  plt.show()"
   ]
  },
  {
   "cell_type": "code",
   "execution_count": 67,
   "metadata": {
    "colab": {
     "base_uri": "https://localhost:8080/",
     "height": 279
    },
    "colab_type": "code",
    "id": "0g7opLdSR1tw",
    "outputId": "90010ad2-99a0-49b3-dbf6-5a721bd47cfe"
   },
   "outputs": [
    {
     "data": {
      "image/png": "[encoded data removed]",
      "text/plain": [
       "<Figure size 432x288 with 1 Axes>"
      ]
     },
     "metadata": {
      "needs_background": "light",
      "tags": []
     },
     "output_type": "display_data"
    }
   ],
   "source": [
    "plot_graphs(history, 'loss')"
   ]
  },
  {
   "cell_type": "code",
   "execution_count": 68,
   "metadata": {
    "colab": {
     "base_uri": "https://localhost:8080/",
     "height": 279
    },
    "colab_type": "code",
    "id": "gVuF1CbTR6rV",
    "outputId": "ad12cc5d-a199-4e4f-afce-bbe891b582ce"
   },
   "outputs": [
    {
     "data": {
      "image/png": "[encoded data removed]",
      "text/plain": [
       "<Figure size 432x288 with 1 Axes>"
      ]
     },
     "metadata": {
      "needs_background": "light",
      "tags": []
     },
     "output_type": "display_data"
    }
   ],
   "source": [
    "plot_graphs(history, 'accuracy')"
   ]
  },
  {
   "cell_type": "markdown",
   "metadata": {},
   "source": [
    "## Creating functions to preprocess new review data"
   ]
  },
  {
   "cell_type": "code",
   "execution_count": null,
   "metadata": {
    "colab": {},
    "colab_type": "code",
    "id": "zY5BBCV3SA7M"
   },
   "outputs": [],
   "source": [
    "def pad_to_size(vec, size):\n",
    "  zeros = [0] * (size- len(vec))\n",
    "  vec.extend(zeros)\n",
    "  return vec"
   ]
  },
  {
   "cell_type": "code",
   "execution_count": null,
   "metadata": {
    "colab": {},
    "colab_type": "code",
    "id": "ySZTRbmAS9zz"
   },
   "outputs": [],
   "source": [
    "def predict_func(pred_text):\n",
    "  encoded_pred_text = encoder.encode(pred_text)\n",
    "  print(encoded_pred_text)\n",
    "  encoded_pred_text = pad_to_size(encoded_pred_text, 32)\n",
    "  print(encoded_pred_text)\n",
    "  encoded_pred_text = tf.cast(encoded_pred_text, tf.float32)\n",
    "  predictions = model.predict(tf.expand_dims(encoded_pred_text, 0))\n",
    "  return predictions"
   ]
  },
  {
   "cell_type": "markdown",
   "metadata": {},
   "source": [
    "## Testing the model on new review data\n",
    "### Higher the prediction value, better the positive sentiment and vice-versa"
   ]
  },
  {
   "cell_type": "code",
   "execution_count": 73,
   "metadata": {
    "colab": {
     "base_uri": "https://localhost:8080/",
     "height": 68
    },
    "colab_type": "code",
    "id": "1CGpGbH4T37F",
    "outputId": "a0bea17c-3f76-4c71-ab13-2f7213df2241"
   },
   "outputs": [
    {
     "name": "stdout",
     "output_type": "stream",
     "text": [
      "[41238, 42327, 50221]\n",
      "[41238, 42327, 50221, 0, 0, 0, 0, 0, 0, 0, 0, 0, 0, 0, 0, 0, 0, 0, 0, 0, 0, 0, 0, 0, 0, 0, 0, 0, 0, 0, 0, 0]\n",
      "[[-5.440137]]\n"
     ]
    }
   ],
   "source": [
    "pred_text = ('Waste of money')\n",
    "predictions = predict_func(pred_text)\n",
    "print(predictions)"
   ]
  },
  {
   "cell_type": "code",
   "execution_count": 74,
   "metadata": {
    "colab": {
     "base_uri": "https://localhost:8080/",
     "height": 68
    },
    "colab_type": "code",
    "id": "E1YWbcvyUgUC",
    "outputId": "4c762a58-1e7a-45d1-9bb0-7c7ae71d8b6f"
   },
   "outputs": [
    {
     "name": "stdout",
     "output_type": "stream",
     "text": [
      "[7509, 73389, 71208, 65177]\n",
      "[7509, 73389, 71208, 65177, 0, 0, 0, 0, 0, 0, 0, 0, 0, 0, 0, 0, 0, 0, 0, 0, 0, 0, 0, 0, 0, 0, 0, 0, 0, 0, 0, 0]\n",
      "[[-2.009132]]\n"
     ]
    }
   ],
   "source": [
    "pred_text = ('not a good product')\n",
    "predictions = predict_func(pred_text)\n",
    "print(predictions)"
   ]
  },
  {
   "cell_type": "code",
   "execution_count": 75,
   "metadata": {
    "colab": {
     "base_uri": "https://localhost:8080/",
     "height": 68
    },
    "colab_type": "code",
    "id": "Hhw8ARn8VULj",
    "outputId": "c90dd78a-d5b9-4b9b-c493-7a653ed29eac"
   },
   "outputs": [
    {
     "name": "stdout",
     "output_type": "stream",
     "text": [
      "[46813, 65177]\n",
      "[46813, 65177, 0, 0, 0, 0, 0, 0, 0, 0, 0, 0, 0, 0, 0, 0, 0, 0, 0, 0, 0, 0, 0, 0, 0, 0, 0, 0, 0, 0, 0, 0]\n",
      "[[-1.5668954]]\n"
     ]
    }
   ],
   "source": [
    "pred_text = ('okayish product')\n",
    "predictions = predict_func(pred_text)\n",
    "print(predictions)"
   ]
  },
  {
   "cell_type": "code",
   "execution_count": 76,
   "metadata": {
    "colab": {
     "base_uri": "https://localhost:8080/",
     "height": 68
    },
    "colab_type": "code",
    "id": "y50-gkpQVdLk",
    "outputId": "81b2463f-b1dd-4593-f7f1-0c9f2560cd48"
   },
   "outputs": [
    {
     "name": "stdout",
     "output_type": "stream",
     "text": [
      "[37920, 63268, 977, 23034, 32404, 28909]\n",
      "[37920, 63268, 977, 23034, 32404, 28909, 0, 0, 0, 0, 0, 0, 0, 0, 0, 0, 0, 0, 0, 0, 0, 0, 0, 0, 0, 0, 0, 0, 0, 0, 0, 0]\n",
      "[[0.11881334]]\n"
     ]
    }
   ],
   "source": [
    "pred_text = ('you can buy at your risk')\n",
    "predictions = predict_func(pred_text)\n",
    "print(predictions)"
   ]
  },
  {
   "cell_type": "code",
   "execution_count": 79,
   "metadata": {
    "colab": {
     "base_uri": "https://localhost:8080/",
     "height": 88
    },
    "colab_type": "code",
    "id": "wrf9hA0ZV9Zh",
    "outputId": "86bfe46f-62ab-4818-8bf5-5af3f687f7d6"
   },
   "outputs": [
    {
     "name": "stdout",
     "output_type": "stream",
     "text": [
      "[65750, 22344, 68729, 48407, 53508, 31088, 8416, 21589, 11373, 68443, 63711, 63241, 16033, 7026, 43602, 11924, 41050, 23034, 70565, 35677, 23167, 56381, 68729, 56725]\n",
      "[65750, 22344, 68729, 48407, 53508, 31088, 8416, 21589, 11373, 68443, 63711, 63241, 16033, 7026, 43602, 11924, 41050, 23034, 70565, 35677, 23167, 56381, 68729, 56725, 0, 0, 0, 0, 0, 0, 0, 0]\n",
      "[[4.9882536]]\n"
     ]
    }
   ],
   "source": [
    "pred_text = ('I got the phone last week, till now its working fine. The build quality is okay. Performance at par with best in the segment')\n",
    "predictions = predict_func(pred_text)\n",
    "print(predictions)"
   ]
  },
  {
   "cell_type": "code",
   "execution_count": 77,
   "metadata": {
    "colab": {
     "base_uri": "https://localhost:8080/",
     "height": 68
    },
    "colab_type": "code",
    "id": "E4oZubXqVz6d",
    "outputId": "d1f6bad8-cdc2-45aa-c93e-d03982f5abf0"
   },
   "outputs": [
    {
     "name": "stdout",
     "output_type": "stream",
     "text": [
      "[37920, 63268, 977]\n",
      "[37920, 63268, 977, 0, 0, 0, 0, 0, 0, 0, 0, 0, 0, 0, 0, 0, 0, 0, 0, 0, 0, 0, 0, 0, 0, 0, 0, 0, 0, 0, 0, 0]\n",
      "[[2.5111697]]\n"
     ]
    }
   ],
   "source": [
    "pred_text = ('you can buy')\n",
    "predictions = predict_func(pred_text)\n",
    "print(predictions)"
   ]
  },
  {
   "cell_type": "code",
   "execution_count": 80,
   "metadata": {
    "colab": {
     "base_uri": "https://localhost:8080/",
     "height": 88
    },
    "colab_type": "code",
    "id": "jm5gw666WvFE",
    "outputId": "f11aad98-dc48-4627-87d0-76d3ebb7aedf"
   },
   "outputs": [
    {
     "name": "stdout",
     "output_type": "stream",
     "text": [
      "[65750, 22344, 68729, 48407, 53508, 31088, 8416, 21589, 11373, 68443, 63711, 63241, 16033, 7026, 43602, 11924, 9629, 16406, 9346]\n",
      "[65750, 22344, 68729, 48407, 53508, 31088, 8416, 21589, 11373, 68443, 63711, 63241, 16033, 7026, 43602, 11924, 9629, 16406, 9346, 0, 0, 0, 0, 0, 0, 0, 0, 0, 0, 0, 0, 0]\n",
      "[[2.6283016]]\n"
     ]
    }
   ],
   "source": [
    "pred_text = ('I got the phone last week, till now its working fine. The build quality is okay. Top notch performance')\n",
    "predictions = predict_func(pred_text)\n",
    "print(predictions)"
   ]
  },
  {
   "cell_type": "code",
   "execution_count": 81,
   "metadata": {
    "colab": {
     "base_uri": "https://localhost:8080/",
     "height": 68
    },
    "colab_type": "code",
    "id": "wqYOPm9aXBnL",
    "outputId": "50c37bc6-8f38-445f-cce3-a35da746ffc3"
   },
   "outputs": [
    {
     "name": "stdout",
     "output_type": "stream",
     "text": [
      "[7509, 20677, 9790, 15904, 7509, 68729, 23167, 57305]\n",
      "[7509, 20677, 9790, 15904, 7509, 68729, 23167, 57305, 0, 0, 0, 0, 0, 0, 0, 0, 0, 0, 0, 0, 0, 0, 0, 0, 0, 0, 0, 0, 0, 0, 0, 0]\n",
      "[[-1.2156087]]\n"
     ]
    }
   ],
   "source": [
    "pred_text = ('not bad but also not the best one')\n",
    "predictions = predict_func(pred_text)\n",
    "print(predictions)"
   ]
  },
  {
   "cell_type": "markdown",
   "metadata": {},
   "source": [
    "## The model is pretty good in predicting the sentiment of user about the product!"
   ]
  }
 ],
 "metadata": {
  "accelerator": "GPU",
  "colab": {
   "name": "Amazon_reviews_sentiment_analysis.ipynb",
   "provenance": []
  },
  "kernelspec": {
   "display_name": "Python 3",
   "language": "python",
   "name": "python3"
  },
  "language_info": {
   "codemirror_mode": {
    "name": "ipython",
    "version": 3
   },
   "file_extension": ".py",
   "mimetype": "text/x-python",
   "name": "python",
   "nbconvert_exporter": "python",
   "pygments_lexer": "ipython3",
   "version": "3.7.4"
  },
  "widgets": {
   "application/vnd.jupyter.widget-state+json": {
    "02290cbccb3a4e4aa88dfcdf5d042a29": {
     "model_module": "@jupyter-widgets/controls",
     "model_name": "ProgressStyleModel",
     "state": {
      "_model_module": "@jupyter-widgets/controls",
      "_model_module_version": "1.5.0",
      "_model_name": "ProgressStyleModel",
      "_view_count": null,
      "_view_module": "@jupyter-widgets/base",
      "_view_module_version": "1.2.0",
      "_view_name": "StyleView",
      "bar_color": null,
      "description_width": "initial"
     }
    },
    "05c75e4bbdce4fa9895741723948c82a": {
     "model_module": "@jupyter-widgets/controls",
     "model_name": "HTMLModel",
     "state": {
      "_dom_classes": [],
      "_model_module": "@jupyter-widgets/controls",
      "_model_module_version": "1.5.0",
      "_model_name": "HTMLModel",
      "_view_count": null,
      "_view_module": "@jupyter-widgets/controls",
      "_view_module_version": "1.5.0",
      "_view_name": "HTMLView",
      "description": "",
      "description_tooltip": null,
      "layout": "IPY_MODEL_a8e8854c7ac8493183231a55b75e01c6",
      "placeholder": "​",
      "style": "IPY_MODEL_3907d029da8d41acad21dc558e3f2084",
      "value": " 1/1 [00:01&lt;00:00,  1.68s/ file]"
     }
    },
    "0611a9e775c140ecb4de44ec83366181": {
     "model_module": "@jupyter-widgets/base",
     "model_name": "LayoutModel",
     "state": {
      "_model_module": "@jupyter-widgets/base",
      "_model_module_version": "1.2.0",
      "_model_name": "LayoutModel",
      "_view_count": null,
      "_view_module": "@jupyter-widgets/base",
      "_view_module_version": "1.2.0",
      "_view_name": "LayoutView",
      "align_content": null,
      "align_items": null,
      "align_self": null,
      "border": null,
      "bottom": null,
      "display": null,
      "flex": null,
      "flex_flow": null,
      "grid_area": null,
      "grid_auto_columns": null,
      "grid_auto_flow": null,
      "grid_auto_rows": null,
      "grid_column": null,
      "grid_gap": null,
      "grid_row": null,
      "grid_template_areas": null,
      "grid_template_columns": null,
      "grid_template_rows": null,
      "height": null,
      "justify_content": null,
      "justify_items": null,
      "left": null,
      "margin": null,
      "max_height": null,
      "max_width": null,
      "min_height": null,
      "min_width": null,
      "object_fit": null,
      "object_position": null,
      "order": null,
      "overflow": null,
      "overflow_x": null,
      "overflow_y": null,
      "padding": null,
      "right": null,
      "top": null,
      "visibility": null,
      "width": null
     }
    },
    "061c67ff42d7462b991122c6ff41d976": {
     "model_module": "@jupyter-widgets/base",
     "model_name": "LayoutModel",
     "state": {
      "_model_module": "@jupyter-widgets/base",
      "_model_module_version": "1.2.0",
      "_model_name": "LayoutModel",
      "_view_count": null,
      "_view_module": "@jupyter-widgets/base",
      "_view_module_version": "1.2.0",
      "_view_name": "LayoutView",
      "align_content": null,
      "align_items": null,
      "align_self": null,
      "border": null,
      "bottom": null,
      "display": null,
      "flex": null,
      "flex_flow": null,
      "grid_area": null,
      "grid_auto_columns": null,
      "grid_auto_flow": null,
      "grid_auto_rows": null,
      "grid_column": null,
      "grid_gap": null,
      "grid_row": null,
      "grid_template_areas": null,
      "grid_template_columns": null,
      "grid_template_rows": null,
      "height": null,
      "justify_content": null,
      "justify_items": null,
      "left": null,
      "margin": null,
      "max_height": null,
      "max_width": null,
      "min_height": null,
      "min_width": null,
      "object_fit": null,
      "object_position": null,
      "order": null,
      "overflow": null,
      "overflow_x": null,
      "overflow_y": null,
      "padding": null,
      "right": null,
      "top": null,
      "visibility": null,
      "width": null
     }
    },
    "0bc3fcd52bf645dda05de7735086742c": {
     "model_module": "@jupyter-widgets/controls",
     "model_name": "DescriptionStyleModel",
     "state": {
      "_model_module": "@jupyter-widgets/controls",
      "_model_module_version": "1.5.0",
      "_model_name": "DescriptionStyleModel",
      "_view_count": null,
      "_view_module": "@jupyter-widgets/base",
      "_view_module_version": "1.2.0",
      "_view_name": "StyleView",
      "description_width": ""
     }
    },
    "111168d7e5cb47e89d422419e6d69081": {
     "model_module": "@jupyter-widgets/controls",
     "model_name": "HBoxModel",
     "state": {
      "_dom_classes": [],
      "_model_module": "@jupyter-widgets/controls",
      "_model_module_version": "1.5.0",
      "_model_name": "HBoxModel",
      "_view_count": null,
      "_view_module": "@jupyter-widgets/controls",
      "_view_module_version": "1.5.0",
      "_view_name": "HBoxView",
      "box_style": "",
      "children": [
       "IPY_MODEL_32cff67ad2f44881a91eea1b21e6b52c",
       "IPY_MODEL_ec5a8f194b364838863682d3f09fa375"
      ],
      "layout": "IPY_MODEL_37cb44861b474418a331099da7ed11a3"
     }
    },
    "153ba834bef948eba4e87861f62cd4e4": {
     "model_module": "@jupyter-widgets/controls",
     "model_name": "ProgressStyleModel",
     "state": {
      "_model_module": "@jupyter-widgets/controls",
      "_model_module_version": "1.5.0",
      "_model_name": "ProgressStyleModel",
      "_view_count": null,
      "_view_module": "@jupyter-widgets/base",
      "_view_module_version": "1.2.0",
      "_view_name": "StyleView",
      "bar_color": null,
      "description_width": "initial"
     }
    },
    "17ecdd3a441d42d1bcb7e54158b3aada": {
     "model_module": "@jupyter-widgets/controls",
     "model_name": "HTMLModel",
     "state": {
      "_dom_classes": [],
      "_model_module": "@jupyter-widgets/controls",
      "_model_module_version": "1.5.0",
      "_model_name": "HTMLModel",
      "_view_count": null,
      "_view_module": "@jupyter-widgets/controls",
      "_view_module_version": "1.5.0",
      "_view_name": "HTMLView",
      "description": "",
      "description_tooltip": null,
      "layout": "IPY_MODEL_46dc07088dd84c59b2a43eed13d98784",
      "placeholder": "​",
      "style": "IPY_MODEL_0bc3fcd52bf645dda05de7735086742c",
      "value": " 1/1 [01:42&lt;00:00, 102.87s/ split]"
     }
    },
    "230077439e784decb346ec9c59c7cadb": {
     "model_module": "@jupyter-widgets/base",
     "model_name": "LayoutModel",
     "state": {
      "_model_module": "@jupyter-widgets/base",
      "_model_module_version": "1.2.0",
      "_model_name": "LayoutModel",
      "_view_count": null,
      "_view_module": "@jupyter-widgets/base",
      "_view_module_version": "1.2.0",
      "_view_name": "LayoutView",
      "align_content": null,
      "align_items": null,
      "align_self": null,
      "border": null,
      "bottom": null,
      "display": null,
      "flex": null,
      "flex_flow": null,
      "grid_area": null,
      "grid_auto_columns": null,
      "grid_auto_flow": null,
      "grid_auto_rows": null,
      "grid_column": null,
      "grid_gap": null,
      "grid_row": null,
      "grid_template_areas": null,
      "grid_template_columns": null,
      "grid_template_rows": null,
      "height": null,
      "justify_content": null,
      "justify_items": null,
      "left": null,
      "margin": null,
      "max_height": null,
      "max_width": null,
      "min_height": null,
      "min_width": null,
      "object_fit": null,
      "object_position": null,
      "order": null,
      "overflow": null,
      "overflow_x": null,
      "overflow_y": null,
      "padding": null,
      "right": null,
      "top": null,
      "visibility": null,
      "width": null
     }
    },
    "2342a9cc34bf48579855eadf1d581b04": {
     "model_module": "@jupyter-widgets/controls",
     "model_name": "DescriptionStyleModel",
     "state": {
      "_model_module": "@jupyter-widgets/controls",
      "_model_module_version": "1.5.0",
      "_model_name": "DescriptionStyleModel",
      "_view_count": null,
      "_view_module": "@jupyter-widgets/base",
      "_view_module_version": "1.2.0",
      "_view_name": "StyleView",
      "description_width": ""
     }
    },
    "259830e8d2e4449fb0fba2659fbce239": {
     "model_module": "@jupyter-widgets/base",
     "model_name": "LayoutModel",
     "state": {
      "_model_module": "@jupyter-widgets/base",
      "_model_module_version": "1.2.0",
      "_model_name": "LayoutModel",
      "_view_count": null,
      "_view_module": "@jupyter-widgets/base",
      "_view_module_version": "1.2.0",
      "_view_name": "LayoutView",
      "align_content": null,
      "align_items": null,
      "align_self": null,
      "border": null,
      "bottom": null,
      "display": null,
      "flex": null,
      "flex_flow": null,
      "grid_area": null,
      "grid_auto_columns": null,
      "grid_auto_flow": null,
      "grid_auto_rows": null,
      "grid_column": null,
      "grid_gap": null,
      "grid_row": null,
      "grid_template_areas": null,
      "grid_template_columns": null,
      "grid_template_rows": null,
      "height": null,
      "justify_content": null,
      "justify_items": null,
      "left": null,
      "margin": null,
      "max_height": null,
      "max_width": null,
      "min_height": null,
      "min_width": null,
      "object_fit": null,
      "object_position": null,
      "order": null,
      "overflow": null,
      "overflow_x": null,
      "overflow_y": null,
      "padding": null,
      "right": null,
      "top": null,
      "visibility": null,
      "width": null
     }
    },
    "2af9a7fad4e14cb8b3c84fb9692bcae5": {
     "model_module": "@jupyter-widgets/controls",
     "model_name": "ProgressStyleModel",
     "state": {
      "_model_module": "@jupyter-widgets/controls",
      "_model_module_version": "1.5.0",
      "_model_name": "ProgressStyleModel",
      "_view_count": null,
      "_view_module": "@jupyter-widgets/base",
      "_view_module_version": "1.2.0",
      "_view_name": "StyleView",
      "bar_color": null,
      "description_width": "initial"
     }
    },
    "32cff67ad2f44881a91eea1b21e6b52c": {
     "model_module": "@jupyter-widgets/controls",
     "model_name": "FloatProgressModel",
     "state": {
      "_dom_classes": [],
      "_model_module": "@jupyter-widgets/controls",
      "_model_module_version": "1.5.0",
      "_model_name": "FloatProgressModel",
      "_view_count": null,
      "_view_module": "@jupyter-widgets/controls",
      "_view_module_version": "1.5.0",
      "_view_name": "ProgressView",
      "bar_style": "success",
      "description": "Dl Completed...: 100%",
      "description_tooltip": null,
      "layout": "IPY_MODEL_677d3053ef894d12bfe5dcb4117a9d87",
      "max": 1,
      "min": 0,
      "orientation": "horizontal",
      "style": "IPY_MODEL_2af9a7fad4e14cb8b3c84fb9692bcae5",
      "value": 1
     }
    },
    "37cb44861b474418a331099da7ed11a3": {
     "model_module": "@jupyter-widgets/base",
     "model_name": "LayoutModel",
     "state": {
      "_model_module": "@jupyter-widgets/base",
      "_model_module_version": "1.2.0",
      "_model_name": "LayoutModel",
      "_view_count": null,
      "_view_module": "@jupyter-widgets/base",
      "_view_module_version": "1.2.0",
      "_view_name": "LayoutView",
      "align_content": null,
      "align_items": null,
      "align_self": null,
      "border": null,
      "bottom": null,
      "display": null,
      "flex": null,
      "flex_flow": null,
      "grid_area": null,
      "grid_auto_columns": null,
      "grid_auto_flow": null,
      "grid_auto_rows": null,
      "grid_column": null,
      "grid_gap": null,
      "grid_row": null,
      "grid_template_areas": null,
      "grid_template_columns": null,
      "grid_template_rows": null,
      "height": null,
      "justify_content": null,
      "justify_items": null,
      "left": null,
      "margin": null,
      "max_height": null,
      "max_width": null,
      "min_height": null,
      "min_width": null,
      "object_fit": null,
      "object_position": null,
      "order": null,
      "overflow": null,
      "overflow_x": null,
      "overflow_y": null,
      "padding": null,
      "right": null,
      "top": null,
      "visibility": null,
      "width": null
     }
    },
    "38e62e602f4943fdacf84d91637b4f4a": {
     "model_module": "@jupyter-widgets/controls",
     "model_name": "FloatProgressModel",
     "state": {
      "_dom_classes": [],
      "_model_module": "@jupyter-widgets/controls",
      "_model_module_version": "1.5.0",
      "_model_name": "FloatProgressModel",
      "_view_count": null,
      "_view_module": "@jupyter-widgets/controls",
      "_view_module_version": "1.5.0",
      "_view_name": "ProgressView",
      "bar_style": "success",
      "description": "Dl Size...: 100%",
      "description_tooltip": null,
      "layout": "IPY_MODEL_b662bca0e7534976898dce3b9bdbef62",
      "max": 1,
      "min": 0,
      "orientation": "horizontal",
      "style": "IPY_MODEL_d139fe6439354308b383ccd764c9e3dd",
      "value": 1
     }
    },
    "3907d029da8d41acad21dc558e3f2084": {
     "model_module": "@jupyter-widgets/controls",
     "model_name": "DescriptionStyleModel",
     "state": {
      "_model_module": "@jupyter-widgets/controls",
      "_model_module_version": "1.5.0",
      "_model_name": "DescriptionStyleModel",
      "_view_count": null,
      "_view_module": "@jupyter-widgets/base",
      "_view_module_version": "1.2.0",
      "_view_name": "StyleView",
      "description_width": ""
     }
    },
    "3d51261b82044336a9a34044c1b8afd0": {
     "model_module": "@jupyter-widgets/controls",
     "model_name": "FloatProgressModel",
     "state": {
      "_dom_classes": [],
      "_model_module": "@jupyter-widgets/controls",
      "_model_module_version": "1.5.0",
      "_model_name": "FloatProgressModel",
      "_view_count": null,
      "_view_module": "@jupyter-widgets/controls",
      "_view_module_version": "1.5.0",
      "_view_name": "ProgressView",
      "bar_style": "success",
      "description": "Computing statistics...: 100%",
      "description_tooltip": null,
      "layout": "IPY_MODEL_c017375c832d4a3d94c7f01c152bdece",
      "max": 1,
      "min": 0,
      "orientation": "horizontal",
      "style": "IPY_MODEL_4c23b57cd34c4a5e9135d4653ba888a7",
      "value": 1
     }
    },
    "46dc07088dd84c59b2a43eed13d98784": {
     "model_module": "@jupyter-widgets/base",
     "model_name": "LayoutModel",
     "state": {
      "_model_module": "@jupyter-widgets/base",
      "_model_module_version": "1.2.0",
      "_model_name": "LayoutModel",
      "_view_count": null,
      "_view_module": "@jupyter-widgets/base",
      "_view_module_version": "1.2.0",
      "_view_name": "LayoutView",
      "align_content": null,
      "align_items": null,
      "align_self": null,
      "border": null,
      "bottom": null,
      "display": null,
      "flex": null,
      "flex_flow": null,
      "grid_area": null,
      "grid_auto_columns": null,
      "grid_auto_flow": null,
      "grid_auto_rows": null,
      "grid_column": null,
      "grid_gap": null,
      "grid_row": null,
      "grid_template_areas": null,
      "grid_template_columns": null,
      "grid_template_rows": null,
      "height": null,
      "justify_content": null,
      "justify_items": null,
      "left": null,
      "margin": null,
      "max_height": null,
      "max_width": null,
      "min_height": null,
      "min_width": null,
      "object_fit": null,
      "object_position": null,
      "order": null,
      "overflow": null,
      "overflow_x": null,
      "overflow_y": null,
      "padding": null,
      "right": null,
      "top": null,
      "visibility": null,
      "width": null
     }
    },
    "4bdf9064c0884bb7b6c90df311de392f": {
     "model_module": "@jupyter-widgets/controls",
     "model_name": "FloatProgressModel",
     "state": {
      "_dom_classes": [],
      "_model_module": "@jupyter-widgets/controls",
      "_model_module_version": "1.5.0",
      "_model_name": "FloatProgressModel",
      "_view_count": null,
      "_view_module": "@jupyter-widgets/controls",
      "_view_module_version": "1.5.0",
      "_view_name": "ProgressView",
      "bar_style": "info",
      "description": "",
      "description_tooltip": null,
      "layout": "IPY_MODEL_061c67ff42d7462b991122c6ff41d976",
      "max": 1,
      "min": 0,
      "orientation": "horizontal",
      "style": "IPY_MODEL_153ba834bef948eba4e87861f62cd4e4",
      "value": 1
     }
    },
    "4c23b57cd34c4a5e9135d4653ba888a7": {
     "model_module": "@jupyter-widgets/controls",
     "model_name": "ProgressStyleModel",
     "state": {
      "_model_module": "@jupyter-widgets/controls",
      "_model_module_version": "1.5.0",
      "_model_name": "ProgressStyleModel",
      "_view_count": null,
      "_view_module": "@jupyter-widgets/base",
      "_view_module_version": "1.2.0",
      "_view_name": "StyleView",
      "bar_color": null,
      "description_width": "initial"
     }
    },
    "580a34b6fd4f4bacb6f9ba991a7722b9": {
     "model_module": "@jupyter-widgets/controls",
     "model_name": "HBoxModel",
     "state": {
      "_dom_classes": [],
      "_model_module": "@jupyter-widgets/controls",
      "_model_module_version": "1.5.0",
      "_model_name": "HBoxModel",
      "_view_count": null,
      "_view_module": "@jupyter-widgets/controls",
      "_view_module_version": "1.5.0",
      "_view_name": "HBoxView",
      "box_style": "",
      "children": [
       "IPY_MODEL_3d51261b82044336a9a34044c1b8afd0",
       "IPY_MODEL_17ecdd3a441d42d1bcb7e54158b3aada"
      ],
      "layout": "IPY_MODEL_bc82aaa9e67e4272a1a8951c9aeda014"
     }
    },
    "590ef21057df4016ad508c943798123c": {
     "model_module": "@jupyter-widgets/controls",
     "model_name": "HBoxModel",
     "state": {
      "_dom_classes": [],
      "_model_module": "@jupyter-widgets/controls",
      "_model_module_version": "1.5.0",
      "_model_name": "HBoxModel",
      "_view_count": null,
      "_view_module": "@jupyter-widgets/controls",
      "_view_module_version": "1.5.0",
      "_view_name": "HBoxView",
      "box_style": "",
      "children": [
       "IPY_MODEL_4bdf9064c0884bb7b6c90df311de392f",
       "IPY_MODEL_9c16e6b27a7b418ea040e4dcf93b33f4"
      ],
      "layout": "IPY_MODEL_866d7819a52847d9bac625e70195f573"
     }
    },
    "59f1219405d145cf91c9c8c2bfb33c7c": {
     "model_module": "@jupyter-widgets/controls",
     "model_name": "ProgressStyleModel",
     "state": {
      "_model_module": "@jupyter-widgets/controls",
      "_model_module_version": "1.5.0",
      "_model_name": "ProgressStyleModel",
      "_view_count": null,
      "_view_module": "@jupyter-widgets/base",
      "_view_module_version": "1.2.0",
      "_view_name": "StyleView",
      "bar_color": null,
      "description_width": "initial"
     }
    },
    "5c08b1c0559040a0bb8608b5570f9e27": {
     "model_module": "@jupyter-widgets/controls",
     "model_name": "HTMLModel",
     "state": {
      "_dom_classes": [],
      "_model_module": "@jupyter-widgets/controls",
      "_model_module_version": "1.5.0",
      "_model_name": "HTMLModel",
      "_view_count": null,
      "_view_module": "@jupyter-widgets/controls",
      "_view_module_version": "1.5.0",
      "_view_name": "HTMLView",
      "description": "",
      "description_tooltip": null,
      "layout": "IPY_MODEL_a27731e1051044d7a0f9343eab978181",
      "placeholder": "​",
      "style": "IPY_MODEL_ded8226089064f0caee656d4bfb29e9c",
      "value": " 104975/? [01:02&lt;00:00, 1684.35 examples/s]"
     }
    },
    "677d3053ef894d12bfe5dcb4117a9d87": {
     "model_module": "@jupyter-widgets/base",
     "model_name": "LayoutModel",
     "state": {
      "_model_module": "@jupyter-widgets/base",
      "_model_module_version": "1.2.0",
      "_model_name": "LayoutModel",
      "_view_count": null,
      "_view_module": "@jupyter-widgets/base",
      "_view_module_version": "1.2.0",
      "_view_name": "LayoutView",
      "align_content": null,
      "align_items": null,
      "align_self": null,
      "border": null,
      "bottom": null,
      "display": null,
      "flex": null,
      "flex_flow": null,
      "grid_area": null,
      "grid_auto_columns": null,
      "grid_auto_flow": null,
      "grid_auto_rows": null,
      "grid_column": null,
      "grid_gap": null,
      "grid_row": null,
      "grid_template_areas": null,
      "grid_template_columns": null,
      "grid_template_rows": null,
      "height": null,
      "justify_content": null,
      "justify_items": null,
      "left": null,
      "margin": null,
      "max_height": null,
      "max_width": null,
      "min_height": null,
      "min_width": null,
      "object_fit": null,
      "object_position": null,
      "order": null,
      "overflow": null,
      "overflow_x": null,
      "overflow_y": null,
      "padding": null,
      "right": null,
      "top": null,
      "visibility": null,
      "width": null
     }
    },
    "6f1e764738384631b01345db52b6dea4": {
     "model_module": "@jupyter-widgets/base",
     "model_name": "LayoutModel",
     "state": {
      "_model_module": "@jupyter-widgets/base",
      "_model_module_version": "1.2.0",
      "_model_name": "LayoutModel",
      "_view_count": null,
      "_view_module": "@jupyter-widgets/base",
      "_view_module_version": "1.2.0",
      "_view_name": "LayoutView",
      "align_content": null,
      "align_items": null,
      "align_self": null,
      "border": null,
      "bottom": null,
      "display": null,
      "flex": null,
      "flex_flow": null,
      "grid_area": null,
      "grid_auto_columns": null,
      "grid_auto_flow": null,
      "grid_auto_rows": null,
      "grid_column": null,
      "grid_gap": null,
      "grid_row": null,
      "grid_template_areas": null,
      "grid_template_columns": null,
      "grid_template_rows": null,
      "height": null,
      "justify_content": null,
      "justify_items": null,
      "left": null,
      "margin": null,
      "max_height": null,
      "max_width": null,
      "min_height": null,
      "min_width": null,
      "object_fit": null,
      "object_position": null,
      "order": null,
      "overflow": null,
      "overflow_x": null,
      "overflow_y": null,
      "padding": null,
      "right": null,
      "top": null,
      "visibility": null,
      "width": null
     }
    },
    "6f6c9342d36c481791b027618dcca30e": {
     "model_module": "@jupyter-widgets/controls",
     "model_name": "HBoxModel",
     "state": {
      "_dom_classes": [],
      "_model_module": "@jupyter-widgets/controls",
      "_model_module_version": "1.5.0",
      "_model_name": "HBoxModel",
      "_view_count": null,
      "_view_module": "@jupyter-widgets/controls",
      "_view_module_version": "1.5.0",
      "_view_name": "HBoxView",
      "box_style": "",
      "children": [
       "IPY_MODEL_82162c677a624845a875b8eb32e54121",
       "IPY_MODEL_05c75e4bbdce4fa9895741723948c82a"
      ],
      "layout": "IPY_MODEL_230077439e784decb346ec9c59c7cadb"
     }
    },
    "787ef22d4e4d42c98277b7340e2c4009": {
     "model_module": "@jupyter-widgets/controls",
     "model_name": "DescriptionStyleModel",
     "state": {
      "_model_module": "@jupyter-widgets/controls",
      "_model_module_version": "1.5.0",
      "_model_name": "DescriptionStyleModel",
      "_view_count": null,
      "_view_module": "@jupyter-widgets/base",
      "_view_module_version": "1.2.0",
      "_view_name": "StyleView",
      "description_width": ""
     }
    },
    "7bffcee58be4450c9156e2c8b7ad47c3": {
     "model_module": "@jupyter-widgets/controls",
     "model_name": "HTMLModel",
     "state": {
      "_dom_classes": [],
      "_model_module": "@jupyter-widgets/controls",
      "_model_module_version": "1.5.0",
      "_model_name": "HTMLModel",
      "_view_count": null,
      "_view_module": "@jupyter-widgets/controls",
      "_view_module_version": "1.5.0",
      "_view_name": "HTMLView",
      "description": "",
      "description_tooltip": null,
      "layout": "IPY_MODEL_fcc2b04dbe2846bca3811259e9cf92be",
      "placeholder": "​",
      "style": "IPY_MODEL_787ef22d4e4d42c98277b7340e2c4009",
      "value": " 21/21 [00:01&lt;00:00, 12.01 MiB/s]"
     }
    },
    "7df511b6b48c460ebe34704d03fc17e6": {
     "model_module": "@jupyter-widgets/base",
     "model_name": "LayoutModel",
     "state": {
      "_model_module": "@jupyter-widgets/base",
      "_model_module_version": "1.2.0",
      "_model_name": "LayoutModel",
      "_view_count": null,
      "_view_module": "@jupyter-widgets/base",
      "_view_module_version": "1.2.0",
      "_view_name": "LayoutView",
      "align_content": null,
      "align_items": null,
      "align_self": null,
      "border": null,
      "bottom": null,
      "display": null,
      "flex": null,
      "flex_flow": null,
      "grid_area": null,
      "grid_auto_columns": null,
      "grid_auto_flow": null,
      "grid_auto_rows": null,
      "grid_column": null,
      "grid_gap": null,
      "grid_row": null,
      "grid_template_areas": null,
      "grid_template_columns": null,
      "grid_template_rows": null,
      "height": null,
      "justify_content": null,
      "justify_items": null,
      "left": null,
      "margin": null,
      "max_height": null,
      "max_width": null,
      "min_height": null,
      "min_width": null,
      "object_fit": null,
      "object_position": null,
      "order": null,
      "overflow": null,
      "overflow_x": null,
      "overflow_y": null,
      "padding": null,
      "right": null,
      "top": null,
      "visibility": null,
      "width": null
     }
    },
    "7e0020c3be8947cd81d316e18687888d": {
     "model_module": "@jupyter-widgets/controls",
     "model_name": "HBoxModel",
     "state": {
      "_dom_classes": [],
      "_model_module": "@jupyter-widgets/controls",
      "_model_module_version": "1.5.0",
      "_model_name": "HBoxModel",
      "_view_count": null,
      "_view_module": "@jupyter-widgets/controls",
      "_view_module_version": "1.5.0",
      "_view_name": "HBoxView",
      "box_style": "",
      "children": [
       "IPY_MODEL_d113c260975d49bfa43834ba78d97bab",
       "IPY_MODEL_8993f14b645246c0a30edbeb5a1a97e6"
      ],
      "layout": "IPY_MODEL_6f1e764738384631b01345db52b6dea4"
     }
    },
    "82162c677a624845a875b8eb32e54121": {
     "model_module": "@jupyter-widgets/controls",
     "model_name": "FloatProgressModel",
     "state": {
      "_dom_classes": [],
      "_model_module": "@jupyter-widgets/controls",
      "_model_module_version": "1.5.0",
      "_model_name": "FloatProgressModel",
      "_view_count": null,
      "_view_module": "@jupyter-widgets/controls",
      "_view_module_version": "1.5.0",
      "_view_name": "ProgressView",
      "bar_style": "success",
      "description": "Extraction completed...: 100%",
      "description_tooltip": null,
      "layout": "IPY_MODEL_0611a9e775c140ecb4de44ec83366181",
      "max": 1,
      "min": 0,
      "orientation": "horizontal",
      "style": "IPY_MODEL_02290cbccb3a4e4aa88dfcdf5d042a29",
      "value": 1
     }
    },
    "866d7819a52847d9bac625e70195f573": {
     "model_module": "@jupyter-widgets/base",
     "model_name": "LayoutModel",
     "state": {
      "_model_module": "@jupyter-widgets/base",
      "_model_module_version": "1.2.0",
      "_model_name": "LayoutModel",
      "_view_count": null,
      "_view_module": "@jupyter-widgets/base",
      "_view_module_version": "1.2.0",
      "_view_name": "LayoutView",
      "align_content": null,
      "align_items": null,
      "align_self": null,
      "border": null,
      "bottom": null,
      "display": null,
      "flex": null,
      "flex_flow": null,
      "grid_area": null,
      "grid_auto_columns": null,
      "grid_auto_flow": null,
      "grid_auto_rows": null,
      "grid_column": null,
      "grid_gap": null,
      "grid_row": null,
      "grid_template_areas": null,
      "grid_template_columns": null,
      "grid_template_rows": null,
      "height": null,
      "justify_content": null,
      "justify_items": null,
      "left": null,
      "margin": null,
      "max_height": null,
      "max_width": null,
      "min_height": null,
      "min_width": null,
      "object_fit": null,
      "object_position": null,
      "order": null,
      "overflow": null,
      "overflow_x": null,
      "overflow_y": null,
      "padding": null,
      "right": null,
      "top": null,
      "visibility": null,
      "width": null
     }
    },
    "8746b6a7818a47a0ad7d5b8ac630b141": {
     "model_module": "@jupyter-widgets/base",
     "model_name": "LayoutModel",
     "state": {
      "_model_module": "@jupyter-widgets/base",
      "_model_module_version": "1.2.0",
      "_model_name": "LayoutModel",
      "_view_count": null,
      "_view_module": "@jupyter-widgets/base",
      "_view_module_version": "1.2.0",
      "_view_name": "LayoutView",
      "align_content": null,
      "align_items": null,
      "align_self": null,
      "border": null,
      "bottom": null,
      "display": null,
      "flex": null,
      "flex_flow": null,
      "grid_area": null,
      "grid_auto_columns": null,
      "grid_auto_flow": null,
      "grid_auto_rows": null,
      "grid_column": null,
      "grid_gap": null,
      "grid_row": null,
      "grid_template_areas": null,
      "grid_template_columns": null,
      "grid_template_rows": null,
      "height": null,
      "justify_content": null,
      "justify_items": null,
      "left": null,
      "margin": null,
      "max_height": null,
      "max_width": null,
      "min_height": null,
      "min_width": null,
      "object_fit": null,
      "object_position": null,
      "order": null,
      "overflow": null,
      "overflow_x": null,
      "overflow_y": null,
      "padding": null,
      "right": null,
      "top": null,
      "visibility": null,
      "width": null
     }
    },
    "88f9580ef375413086d2967dbf1c5cea": {
     "model_module": "@jupyter-widgets/controls",
     "model_name": "DescriptionStyleModel",
     "state": {
      "_model_module": "@jupyter-widgets/controls",
      "_model_module_version": "1.5.0",
      "_model_name": "DescriptionStyleModel",
      "_view_count": null,
      "_view_module": "@jupyter-widgets/base",
      "_view_module_version": "1.2.0",
      "_view_name": "StyleView",
      "description_width": ""
     }
    },
    "8993f14b645246c0a30edbeb5a1a97e6": {
     "model_module": "@jupyter-widgets/controls",
     "model_name": "HTMLModel",
     "state": {
      "_dom_classes": [],
      "_model_module": "@jupyter-widgets/controls",
      "_model_module_version": "1.5.0",
      "_model_name": "HTMLModel",
      "_view_count": null,
      "_view_module": "@jupyter-widgets/controls",
      "_view_module_version": "1.5.0",
      "_view_name": "HTMLView",
      "description": "",
      "description_tooltip": null,
      "layout": "IPY_MODEL_8746b6a7818a47a0ad7d5b8ac630b141",
      "placeholder": "​",
      "style": "IPY_MODEL_a0e2d75588204926ae0a71c228fb36ce",
      "value": " 100503/104975 [00:00&lt;02:16, 32.79 examples/s]"
     }
    },
    "919dce895c94474399333b1f7ba0d3f1": {
     "model_module": "@jupyter-widgets/controls",
     "model_name": "FloatProgressModel",
     "state": {
      "_dom_classes": [],
      "_model_module": "@jupyter-widgets/controls",
      "_model_module_version": "1.5.0",
      "_model_name": "FloatProgressModel",
      "_view_count": null,
      "_view_module": "@jupyter-widgets/controls",
      "_view_module_version": "1.5.0",
      "_view_name": "ProgressView",
      "bar_style": "info",
      "description": "",
      "description_tooltip": null,
      "layout": "IPY_MODEL_9b4361baaf234645a39893f40b8330e5",
      "max": 1,
      "min": 0,
      "orientation": "horizontal",
      "style": "IPY_MODEL_59f1219405d145cf91c9c8c2bfb33c7c",
      "value": 1
     }
    },
    "994a668f1d9c4e6384ed95a07394633a": {
     "model_module": "@jupyter-widgets/controls",
     "model_name": "ProgressStyleModel",
     "state": {
      "_model_module": "@jupyter-widgets/controls",
      "_model_module_version": "1.5.0",
      "_model_name": "ProgressStyleModel",
      "_view_count": null,
      "_view_module": "@jupyter-widgets/base",
      "_view_module_version": "1.2.0",
      "_view_name": "StyleView",
      "bar_color": null,
      "description_width": "initial"
     }
    },
    "9b4361baaf234645a39893f40b8330e5": {
     "model_module": "@jupyter-widgets/base",
     "model_name": "LayoutModel",
     "state": {
      "_model_module": "@jupyter-widgets/base",
      "_model_module_version": "1.2.0",
      "_model_name": "LayoutModel",
      "_view_count": null,
      "_view_module": "@jupyter-widgets/base",
      "_view_module_version": "1.2.0",
      "_view_name": "LayoutView",
      "align_content": null,
      "align_items": null,
      "align_self": null,
      "border": null,
      "bottom": null,
      "display": null,
      "flex": null,
      "flex_flow": null,
      "grid_area": null,
      "grid_auto_columns": null,
      "grid_auto_flow": null,
      "grid_auto_rows": null,
      "grid_column": null,
      "grid_gap": null,
      "grid_row": null,
      "grid_template_areas": null,
      "grid_template_columns": null,
      "grid_template_rows": null,
      "height": null,
      "justify_content": null,
      "justify_items": null,
      "left": null,
      "margin": null,
      "max_height": null,
      "max_width": null,
      "min_height": null,
      "min_width": null,
      "object_fit": null,
      "object_position": null,
      "order": null,
      "overflow": null,
      "overflow_x": null,
      "overflow_y": null,
      "padding": null,
      "right": null,
      "top": null,
      "visibility": null,
      "width": null
     }
    },
    "9c16e6b27a7b418ea040e4dcf93b33f4": {
     "model_module": "@jupyter-widgets/controls",
     "model_name": "HTMLModel",
     "state": {
      "_dom_classes": [],
      "_model_module": "@jupyter-widgets/controls",
      "_model_module_version": "1.5.0",
      "_model_name": "HTMLModel",
      "_view_count": null,
      "_view_module": "@jupyter-widgets/controls",
      "_view_module_version": "1.5.0",
      "_view_name": "HTMLView",
      "description": "",
      "description_tooltip": null,
      "layout": "IPY_MODEL_dd0d17696c0c489db5cfb255ba6e8099",
      "placeholder": "​",
      "style": "IPY_MODEL_88f9580ef375413086d2967dbf1c5cea",
      "value": " 104975/0 [02:51&lt;00:00, 685.96 examples/s]"
     }
    },
    "a0e2d75588204926ae0a71c228fb36ce": {
     "model_module": "@jupyter-widgets/controls",
     "model_name": "DescriptionStyleModel",
     "state": {
      "_model_module": "@jupyter-widgets/controls",
      "_model_module_version": "1.5.0",
      "_model_name": "DescriptionStyleModel",
      "_view_count": null,
      "_view_module": "@jupyter-widgets/base",
      "_view_module_version": "1.2.0",
      "_view_name": "StyleView",
      "description_width": ""
     }
    },
    "a27731e1051044d7a0f9343eab978181": {
     "model_module": "@jupyter-widgets/base",
     "model_name": "LayoutModel",
     "state": {
      "_model_module": "@jupyter-widgets/base",
      "_model_module_version": "1.2.0",
      "_model_name": "LayoutModel",
      "_view_count": null,
      "_view_module": "@jupyter-widgets/base",
      "_view_module_version": "1.2.0",
      "_view_name": "LayoutView",
      "align_content": null,
      "align_items": null,
      "align_self": null,
      "border": null,
      "bottom": null,
      "display": null,
      "flex": null,
      "flex_flow": null,
      "grid_area": null,
      "grid_auto_columns": null,
      "grid_auto_flow": null,
      "grid_auto_rows": null,
      "grid_column": null,
      "grid_gap": null,
      "grid_row": null,
      "grid_template_areas": null,
      "grid_template_columns": null,
      "grid_template_rows": null,
      "height": null,
      "justify_content": null,
      "justify_items": null,
      "left": null,
      "margin": null,
      "max_height": null,
      "max_width": null,
      "min_height": null,
      "min_width": null,
      "object_fit": null,
      "object_position": null,
      "order": null,
      "overflow": null,
      "overflow_x": null,
      "overflow_y": null,
      "padding": null,
      "right": null,
      "top": null,
      "visibility": null,
      "width": null
     }
    },
    "a8e8854c7ac8493183231a55b75e01c6": {
     "model_module": "@jupyter-widgets/base",
     "model_name": "LayoutModel",
     "state": {
      "_model_module": "@jupyter-widgets/base",
      "_model_module_version": "1.2.0",
      "_model_name": "LayoutModel",
      "_view_count": null,
      "_view_module": "@jupyter-widgets/base",
      "_view_module_version": "1.2.0",
      "_view_name": "LayoutView",
      "align_content": null,
      "align_items": null,
      "align_self": null,
      "border": null,
      "bottom": null,
      "display": null,
      "flex": null,
      "flex_flow": null,
      "grid_area": null,
      "grid_auto_columns": null,
      "grid_auto_flow": null,
      "grid_auto_rows": null,
      "grid_column": null,
      "grid_gap": null,
      "grid_row": null,
      "grid_template_areas": null,
      "grid_template_columns": null,
      "grid_template_rows": null,
      "height": null,
      "justify_content": null,
      "justify_items": null,
      "left": null,
      "margin": null,
      "max_height": null,
      "max_width": null,
      "min_height": null,
      "min_width": null,
      "object_fit": null,
      "object_position": null,
      "order": null,
      "overflow": null,
      "overflow_x": null,
      "overflow_y": null,
      "padding": null,
      "right": null,
      "top": null,
      "visibility": null,
      "width": null
     }
    },
    "b662bca0e7534976898dce3b9bdbef62": {
     "model_module": "@jupyter-widgets/base",
     "model_name": "LayoutModel",
     "state": {
      "_model_module": "@jupyter-widgets/base",
      "_model_module_version": "1.2.0",
      "_model_name": "LayoutModel",
      "_view_count": null,
      "_view_module": "@jupyter-widgets/base",
      "_view_module_version": "1.2.0",
      "_view_name": "LayoutView",
      "align_content": null,
      "align_items": null,
      "align_self": null,
      "border": null,
      "bottom": null,
      "display": null,
      "flex": null,
      "flex_flow": null,
      "grid_area": null,
      "grid_auto_columns": null,
      "grid_auto_flow": null,
      "grid_auto_rows": null,
      "grid_column": null,
      "grid_gap": null,
      "grid_row": null,
      "grid_template_areas": null,
      "grid_template_columns": null,
      "grid_template_rows": null,
      "height": null,
      "justify_content": null,
      "justify_items": null,
      "left": null,
      "margin": null,
      "max_height": null,
      "max_width": null,
      "min_height": null,
      "min_width": null,
      "object_fit": null,
      "object_position": null,
      "order": null,
      "overflow": null,
      "overflow_x": null,
      "overflow_y": null,
      "padding": null,
      "right": null,
      "top": null,
      "visibility": null,
      "width": null
     }
    },
    "bc82aaa9e67e4272a1a8951c9aeda014": {
     "model_module": "@jupyter-widgets/base",
     "model_name": "LayoutModel",
     "state": {
      "_model_module": "@jupyter-widgets/base",
      "_model_module_version": "1.2.0",
      "_model_name": "LayoutModel",
      "_view_count": null,
      "_view_module": "@jupyter-widgets/base",
      "_view_module_version": "1.2.0",
      "_view_name": "LayoutView",
      "align_content": null,
      "align_items": null,
      "align_self": null,
      "border": null,
      "bottom": null,
      "display": null,
      "flex": null,
      "flex_flow": null,
      "grid_area": null,
      "grid_auto_columns": null,
      "grid_auto_flow": null,
      "grid_auto_rows": null,
      "grid_column": null,
      "grid_gap": null,
      "grid_row": null,
      "grid_template_areas": null,
      "grid_template_columns": null,
      "grid_template_rows": null,
      "height": null,
      "justify_content": null,
      "justify_items": null,
      "left": null,
      "margin": null,
      "max_height": null,
      "max_width": null,
      "min_height": null,
      "min_width": null,
      "object_fit": null,
      "object_position": null,
      "order": null,
      "overflow": null,
      "overflow_x": null,
      "overflow_y": null,
      "padding": null,
      "right": null,
      "top": null,
      "visibility": null,
      "width": null
     }
    },
    "c017375c832d4a3d94c7f01c152bdece": {
     "model_module": "@jupyter-widgets/base",
     "model_name": "LayoutModel",
     "state": {
      "_model_module": "@jupyter-widgets/base",
      "_model_module_version": "1.2.0",
      "_model_name": "LayoutModel",
      "_view_count": null,
      "_view_module": "@jupyter-widgets/base",
      "_view_module_version": "1.2.0",
      "_view_name": "LayoutView",
      "align_content": null,
      "align_items": null,
      "align_self": null,
      "border": null,
      "bottom": null,
      "display": null,
      "flex": null,
      "flex_flow": null,
      "grid_area": null,
      "grid_auto_columns": null,
      "grid_auto_flow": null,
      "grid_auto_rows": null,
      "grid_column": null,
      "grid_gap": null,
      "grid_row": null,
      "grid_template_areas": null,
      "grid_template_columns": null,
      "grid_template_rows": null,
      "height": null,
      "justify_content": null,
      "justify_items": null,
      "left": null,
      "margin": null,
      "max_height": null,
      "max_width": null,
      "min_height": null,
      "min_width": null,
      "object_fit": null,
      "object_position": null,
      "order": null,
      "overflow": null,
      "overflow_x": null,
      "overflow_y": null,
      "padding": null,
      "right": null,
      "top": null,
      "visibility": null,
      "width": null
     }
    },
    "d113c260975d49bfa43834ba78d97bab": {
     "model_module": "@jupyter-widgets/controls",
     "model_name": "FloatProgressModel",
     "state": {
      "_dom_classes": [],
      "_model_module": "@jupyter-widgets/controls",
      "_model_module_version": "1.5.0",
      "_model_name": "FloatProgressModel",
      "_view_count": null,
      "_view_module": "@jupyter-widgets/controls",
      "_view_module_version": "1.5.0",
      "_view_name": "ProgressView",
      "bar_style": "danger",
      "description": " 96%",
      "description_tooltip": null,
      "layout": "IPY_MODEL_7df511b6b48c460ebe34704d03fc17e6",
      "max": 104975,
      "min": 0,
      "orientation": "horizontal",
      "style": "IPY_MODEL_994a668f1d9c4e6384ed95a07394633a",
      "value": 100503
     }
    },
    "d139fe6439354308b383ccd764c9e3dd": {
     "model_module": "@jupyter-widgets/controls",
     "model_name": "ProgressStyleModel",
     "state": {
      "_model_module": "@jupyter-widgets/controls",
      "_model_module_version": "1.5.0",
      "_model_name": "ProgressStyleModel",
      "_view_count": null,
      "_view_module": "@jupyter-widgets/base",
      "_view_module_version": "1.2.0",
      "_view_name": "StyleView",
      "bar_color": null,
      "description_width": "initial"
     }
    },
    "dd0d17696c0c489db5cfb255ba6e8099": {
     "model_module": "@jupyter-widgets/base",
     "model_name": "LayoutModel",
     "state": {
      "_model_module": "@jupyter-widgets/base",
      "_model_module_version": "1.2.0",
      "_model_name": "LayoutModel",
      "_view_count": null,
      "_view_module": "@jupyter-widgets/base",
      "_view_module_version": "1.2.0",
      "_view_name": "LayoutView",
      "align_content": null,
      "align_items": null,
      "align_self": null,
      "border": null,
      "bottom": null,
      "display": null,
      "flex": null,
      "flex_flow": null,
      "grid_area": null,
      "grid_auto_columns": null,
      "grid_auto_flow": null,
      "grid_auto_rows": null,
      "grid_column": null,
      "grid_gap": null,
      "grid_row": null,
      "grid_template_areas": null,
      "grid_template_columns": null,
      "grid_template_rows": null,
      "height": null,
      "justify_content": null,
      "justify_items": null,
      "left": null,
      "margin": null,
      "max_height": null,
      "max_width": null,
      "min_height": null,
      "min_width": null,
      "object_fit": null,
      "object_position": null,
      "order": null,
      "overflow": null,
      "overflow_x": null,
      "overflow_y": null,
      "padding": null,
      "right": null,
      "top": null,
      "visibility": null,
      "width": null
     }
    },
    "dd9aafcb521d483781d7894a7fa0c139": {
     "model_module": "@jupyter-widgets/controls",
     "model_name": "HBoxModel",
     "state": {
      "_dom_classes": [],
      "_model_module": "@jupyter-widgets/controls",
      "_model_module_version": "1.5.0",
      "_model_name": "HBoxModel",
      "_view_count": null,
      "_view_module": "@jupyter-widgets/controls",
      "_view_module_version": "1.5.0",
      "_view_name": "HBoxView",
      "box_style": "",
      "children": [
       "IPY_MODEL_919dce895c94474399333b1f7ba0d3f1",
       "IPY_MODEL_5c08b1c0559040a0bb8608b5570f9e27"
      ],
      "layout": "IPY_MODEL_f6a972969fe740a08bacfaa51a58d0ab"
     }
    },
    "dda6bbef8d7e463bb64c5c71f4334a8f": {
     "model_module": "@jupyter-widgets/controls",
     "model_name": "HBoxModel",
     "state": {
      "_dom_classes": [],
      "_model_module": "@jupyter-widgets/controls",
      "_model_module_version": "1.5.0",
      "_model_name": "HBoxModel",
      "_view_count": null,
      "_view_module": "@jupyter-widgets/controls",
      "_view_module_version": "1.5.0",
      "_view_name": "HBoxView",
      "box_style": "",
      "children": [
       "IPY_MODEL_38e62e602f4943fdacf84d91637b4f4a",
       "IPY_MODEL_7bffcee58be4450c9156e2c8b7ad47c3"
      ],
      "layout": "IPY_MODEL_259830e8d2e4449fb0fba2659fbce239"
     }
    },
    "ded8226089064f0caee656d4bfb29e9c": {
     "model_module": "@jupyter-widgets/controls",
     "model_name": "DescriptionStyleModel",
     "state": {
      "_model_module": "@jupyter-widgets/controls",
      "_model_module_version": "1.5.0",
      "_model_name": "DescriptionStyleModel",
      "_view_count": null,
      "_view_module": "@jupyter-widgets/base",
      "_view_module_version": "1.2.0",
      "_view_name": "StyleView",
      "description_width": ""
     }
    },
    "ec5a8f194b364838863682d3f09fa375": {
     "model_module": "@jupyter-widgets/controls",
     "model_name": "HTMLModel",
     "state": {
      "_dom_classes": [],
      "_model_module": "@jupyter-widgets/controls",
      "_model_module_version": "1.5.0",
      "_model_name": "HTMLModel",
      "_view_count": null,
      "_view_module": "@jupyter-widgets/controls",
      "_view_module_version": "1.5.0",
      "_view_name": "HTMLView",
      "description": "",
      "description_tooltip": null,
      "layout": "IPY_MODEL_f83bd51d45db47b0977602bb9a9e2b18",
      "placeholder": "​",
      "style": "IPY_MODEL_2342a9cc34bf48579855eadf1d581b04",
      "value": " 1/1 [00:01&lt;00:00,  1.78s/ url]"
     }
    },
    "f6a972969fe740a08bacfaa51a58d0ab": {
     "model_module": "@jupyter-widgets/base",
     "model_name": "LayoutModel",
     "state": {
      "_model_module": "@jupyter-widgets/base",
      "_model_module_version": "1.2.0",
      "_model_name": "LayoutModel",
      "_view_count": null,
      "_view_module": "@jupyter-widgets/base",
      "_view_module_version": "1.2.0",
      "_view_name": "LayoutView",
      "align_content": null,
      "align_items": null,
      "align_self": null,
      "border": null,
      "bottom": null,
      "display": null,
      "flex": null,
      "flex_flow": null,
      "grid_area": null,
      "grid_auto_columns": null,
      "grid_auto_flow": null,
      "grid_auto_rows": null,
      "grid_column": null,
      "grid_gap": null,
      "grid_row": null,
      "grid_template_areas": null,
      "grid_template_columns": null,
      "grid_template_rows": null,
      "height": null,
      "justify_content": null,
      "justify_items": null,
      "left": null,
      "margin": null,
      "max_height": null,
      "max_width": null,
      "min_height": null,
      "min_width": null,
      "object_fit": null,
      "object_position": null,
      "order": null,
      "overflow": null,
      "overflow_x": null,
      "overflow_y": null,
      "padding": null,
      "right": null,
      "top": null,
      "visibility": null,
      "width": null
     }
    },
    "f83bd51d45db47b0977602bb9a9e2b18": {
     "model_module": "@jupyter-widgets/base",
     "model_name": "LayoutModel",
     "state": {
      "_model_module": "@jupyter-widgets/base",
      "_model_module_version": "1.2.0",
      "_model_name": "LayoutModel",
      "_view_count": null,
      "_view_module": "@jupyter-widgets/base",
      "_view_module_version": "1.2.0",
      "_view_name": "LayoutView",
      "align_content": null,
      "align_items": null,
      "align_self": null,
      "border": null,
      "bottom": null,
      "display": null,
      "flex": null,
      "flex_flow": null,
      "grid_area": null,
      "grid_auto_columns": null,
      "grid_auto_flow": null,
      "grid_auto_rows": null,
      "grid_column": null,
      "grid_gap": null,
      "grid_row": null,
      "grid_template_areas": null,
      "grid_template_columns": null,
      "grid_template_rows": null,
      "height": null,
      "justify_content": null,
      "justify_items": null,
      "left": null,
      "margin": null,
      "max_height": null,
      "max_width": null,
      "min_height": null,
      "min_width": null,
      "object_fit": null,
      "object_position": null,
      "order": null,
      "overflow": null,
      "overflow_x": null,
      "overflow_y": null,
      "padding": null,
      "right": null,
      "top": null,
      "visibility": null,
      "width": null
     }
    },
    "fcc2b04dbe2846bca3811259e9cf92be": {
     "model_module": "@jupyter-widgets/base",
     "model_name": "LayoutModel",
     "state": {
      "_model_module": "@jupyter-widgets/base",
      "_model_module_version": "1.2.0",
      "_model_name": "LayoutModel",
      "_view_count": null,
      "_view_module": "@jupyter-widgets/base",
      "_view_module_version": "1.2.0",
      "_view_name": "LayoutView",
      "align_content": null,
      "align_items": null,
      "align_self": null,
      "border": null,
      "bottom": null,
      "display": null,
      "flex": null,
      "flex_flow": null,
      "grid_area": null,
      "grid_auto_columns": null,
      "grid_auto_flow": null,
      "grid_auto_rows": null,
      "grid_column": null,
      "grid_gap": null,
      "grid_row": null,
      "grid_template_areas": null,
      "grid_template_columns": null,
      "grid_template_rows": null,
      "height": null,
      "justify_content": null,
      "justify_items": null,
      "left": null,
      "margin": null,
      "max_height": null,
      "max_width": null,
      "min_height": null,
      "min_width": null,
      "object_fit": null,
      "object_position": null,
      "order": null,
      "overflow": null,
      "overflow_x": null,
      "overflow_y": null,
      "padding": null,
      "right": null,
      "top": null,
      "visibility": null,
      "width": null
     }
    }
   }
  }
 },
 "nbformat": 4,
 "nbformat_minor": 4
}
