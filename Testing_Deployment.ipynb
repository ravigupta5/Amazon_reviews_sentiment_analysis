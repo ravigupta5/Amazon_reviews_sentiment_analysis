{
  "nbformat": 4,
  "nbformat_minor": 0,
  "metadata": {
    "colab": {
      "name": "Testing_flask.ipynb",
      "provenance": []
    },
    "kernelspec": {
      "name": "python3",
      "display_name": "Python 3"
    }
  },
  "cells": [
    {
      "cell_type": "code",
      "metadata": {
        "id": "FKv1S1mw8lxz",
        "colab_type": "code",
        "colab": {
          "base_uri": "https://localhost:8080/",
          "height": 51
        },
        "outputId": "66d22abe-7ab7-466b-e8c0-d3a5aba73a18"
      },
      "source": [
        "import requests\n",
        "req = requests.get('http://3bf84cb8f099.ngrok.io/')\n",
        "print(req.status_code)\n",
        "print(req.text)"
      ],
      "execution_count": 12,
      "outputs": [
        {
          "output_type": "stream",
          "text": [
            "200\n",
            "I am alive!\n"
          ],
          "name": "stdout"
        }
      ]
    },
    {
      "cell_type": "code",
      "metadata": {
        "id": "WeDvw-BX_qwl",
        "colab_type": "code",
        "colab": {
          "base_uri": "https://localhost:8080/",
          "height": 68
        },
        "outputId": "42ca2587-3d4b-4628-8cde-e9bbdc5a4884"
      },
      "source": [
        "import requests, json\n",
        "headers = {'Content-type': 'application/json', 'Accept': 'text/plain'}\n",
        "data = {'text':'I thought it to be a good product but it is nothing but a piece of crap'}\n",
        "req = requests.post(\"http://3bf84cb8f099.ngrok.io/seclassifier\",  data=json.dumps(data), headers=headers)\n",
        "\n",
        "print(req.status_code)\n",
        "print(req.text)\n"
      ],
      "execution_count": 18,
      "outputs": [
        {
          "output_type": "stream",
          "text": [
            "200\n",
            "{\"predictions \":[[-3.050363779067993]],\"sentiment \":\"Negative\"}\n",
            "\n"
          ],
          "name": "stdout"
        }
      ]
    },
    {
      "cell_type": "code",
      "metadata": {
        "id": "ZZNnLx9ZCPkp",
        "colab_type": "code",
        "colab": {
          "base_uri": "https://localhost:8080/",
          "height": 68
        },
        "outputId": "f9fdfecf-0568-4cad-fa2b-996555fcd111"
      },
      "source": [
        "data = {'text':'way better than my expectations! atleast for its cheap price'}\n",
        "req = requests.post(\"http://3bf84cb8f099.ngrok.io/seclassifier\",  data=json.dumps(data), headers=headers)\n",
        "\n",
        "print(req.status_code)\n",
        "print(req.text)\n"
      ],
      "execution_count": 19,
      "outputs": [
        {
          "output_type": "stream",
          "text": [
            "200\n",
            "{\"predictions \":[[1.0697828531265259]],\"sentiment \":\"positive\"}\n",
            "\n"
          ],
          "name": "stdout"
        }
      ]
    }
  ]
}