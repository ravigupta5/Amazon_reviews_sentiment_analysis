{
 "cells": [
  {
   "cell_type": "code",
   "execution_count": 1,
   "metadata": {
    "colab": {
     "base_uri": "https://localhost:8080/",
     "height": 122
    },
    "colab_type": "code",
    "id": "p-MlOTXR-hv4",
    "outputId": "137b1781-7cbe-4246-c392-899873e0a3df"
   },
   "outputs": [
    {
     "name": "stdout",
     "output_type": "stream",
     "text": [
      "Go to this URL in a browser: https://accounts.google.com/o/oauth2/auth?client_id=947318989803-6bn6qk8qdgf4n4g3pfee6491hc0brc4i.apps.googleusercontent.com&redirect_uri=urn%3aietf%3awg%3aoauth%3a2.0%3aoob&response_type=code&scope=email%20https%3a%2f%2fwww.googleapis.com%2fauth%2fdocs.test%20https%3a%2f%2fwww.googleapis.com%2fauth%2fdrive%20https%3a%2f%2fwww.googleapis.com%2fauth%2fdrive.photos.readonly%20https%3a%2f%2fwww.googleapis.com%2fauth%2fpeopleapi.readonly\n",
      "\n",
      "Enter your authorization code:\n",
      "··········\n",
      "Mounted at /content/drive\n"
     ]
    }
   ],
   "source": [
    "from google.colab import drive\n",
    "drive.mount('/content/drive')"
   ]
  },
  {
   "cell_type": "code",
   "execution_count": 9,
   "metadata": {
    "colab": {
     "base_uri": "https://localhost:8080/",
     "height": 34
    },
    "colab_type": "code",
    "id": "jGokItTB-jhh",
    "outputId": "2e2b3faa-a3d5-4223-f6d0-6162607961a0"
   },
   "outputs": [
    {
     "name": "stdout",
     "output_type": "stream",
     "text": [
      "/content/drive/My Drive/Colab/Amozon Sentiment Analysis\n"
     ]
    }
   ],
   "source": [
    "cd /content/drive/My Drive/Colab/Amozon Sentiment Analysis"
   ]
  },
  {
   "cell_type": "code",
   "execution_count": 10,
   "metadata": {
    "colab": {
     "base_uri": "https://localhost:8080/",
     "height": 51
    },
    "colab_type": "code",
    "id": "A7luYdNd6dmC",
    "outputId": "85408331-eae8-4fec-f5bb-6e007d765eb4"
   },
   "outputs": [
    {
     "name": "stdout",
     "output_type": "stream",
     "text": [
      "final_sentiment_analysis.hdf5  sa_encoder.vocab.tokens  Untitled0.ipynb\n",
      "Running_Flask_in_Colab.ipynb   sentiment_analysis.hdf5\n"
     ]
    }
   ],
   "source": [
    "ls"
   ]
  },
  {
   "cell_type": "code",
   "execution_count": 11,
   "metadata": {
    "colab": {
     "base_uri": "https://localhost:8080/",
     "height": 34
    },
    "colab_type": "code",
    "id": "xk6pqXHXpChi",
    "outputId": "336709ad-5a66-405d-bf30-58375ba13a62"
   },
   "outputs": [
    {
     "name": "stdout",
     "output_type": "stream",
     "text": [
      "172.28.0.2\n"
     ]
    }
   ],
   "source": [
    "import socket\n",
    "print(socket.gethostbyname(socket.gethostname()))"
   ]
  },
  {
   "cell_type": "code",
   "execution_count": 12,
   "metadata": {
    "colab": {
     "base_uri": "https://localhost:8080/",
     "height": 136
    },
    "colab_type": "code",
    "id": "5DUmBgC4tLgD",
    "outputId": "7d01ebc1-7a0e-4895-82c2-915c34574222"
   },
   "outputs": [
    {
     "name": "stdout",
     "output_type": "stream",
     "text": [
      "Model and Vocabalory loaded.......\n",
      " * Serving Flask app \"__main__\" (lazy loading)\n",
      " * Environment: production\n",
      "\u001b[31m   WARNING: This is a development server. Do not use it in a production deployment.\u001b[0m\n",
      "\u001b[2m   Use a production WSGI server instead.\u001b[0m\n",
      " * Debug mode: off\n"
     ]
    },
    {
     "name": "stderr",
     "output_type": "stream",
     "text": [
      " * Running on http://0.0.0.0:6000/ (Press CTRL+C to quit)\n"
     ]
    }
   ],
   "source": [
    "import tensorflow_datasets as tfds\n",
    "import tensorflow as tf\n",
    "from flask import Flask, jsonify, make_response, request\n",
    "import threading\n",
    "\n",
    "app = Flask(__name__)\n",
    "padding_size = 1000\n",
    "model = tf.keras.models.load_model('/content/drive/My Drive/Colab/Amozon Sentiment Analysis/sentiment_analysis.hdf5')\n",
    "text_encoder = tfds.features.text.TokenTextEncoder.load_from_file(\"/content/drive/My Drive/Colab/Amozon Sentiment Analysis/sa_encoder.vocab\")\n",
    "\n",
    "print('Model and Vocabalory loaded.......')\n",
    "\n",
    "@app.route(\"/\")\n",
    "def hello():\n",
    "    return \"I am alive!\"\n",
    "\n",
    "def pad_to_size(vec, size):\n",
    "    zeros = [0] * (size - len(vec))\n",
    "    vec.extend(zeros)\n",
    "    return vec\n",
    "\n",
    "\n",
    "def predict_fn(predict_text, pad_size):\n",
    "    encoded_text = text_encoder.encode(predict_text)\n",
    "    encoded_text = pad_to_size(encoded_text, pad_size)\n",
    "    encoded_text = tf.cast(encoded_text, tf.int64)\n",
    "    predictions = model.predict(tf.expand_dims(encoded_text, 0))\n",
    "\n",
    "    return (predictions.tolist())\n",
    "\n",
    "\n",
    "@app.route('/seclassifier', methods=['POST'])\n",
    "def predict_sentiment():\n",
    "    text = request.get_json()['text']\n",
    "    print(text)\n",
    "    predictions = predict_fn(text, padding_size)\n",
    "    sentiment = 'positive' if float(''.join(map(str,predictions[0]))) > 0 else 'Negative'\n",
    "    return jsonify({'predictions ':predictions, 'sentiment ': sentiment})\n",
    "\n",
    "\n",
    "threading.Thread(target=app.run, kwargs={'host':'0.0.0.0','port':6000}).start() "
   ]
  },
  {
   "cell_type": "code",
   "execution_count": 13,
   "metadata": {
    "colab": {
     "base_uri": "https://localhost:8080/",
     "height": 68
    },
    "colab_type": "code",
    "id": "XDrmi6eQuHDQ",
    "outputId": "47f1e2e4-1b05-49fb-8a70-681abf752167"
   },
   "outputs": [
    {
     "name": "stderr",
     "output_type": "stream",
     "text": [
      "172.28.0.2 - - [07/Jun/2020 03:56:42] \"\u001b[37mGET / HTTP/1.1\u001b[0m\" 200 -\n"
     ]
    },
    {
     "name": "stdout",
     "output_type": "stream",
     "text": [
      "200\n",
      "I am alive!\n"
     ]
    }
   ],
   "source": [
    "import requests\n",
    "req = requests.get(\"http://172.28.0.2:6000/\")\n",
    "print(req.status_code)\n",
    "print(req.text)"
   ]
  },
  {
   "cell_type": "code",
   "execution_count": 14,
   "metadata": {
    "colab": {
     "base_uri": "https://localhost:8080/",
     "height": 102
    },
    "colab_type": "code",
    "id": "w0Vbn3kFz3V2",
    "outputId": "989614c4-3787-42b5-ff8e-99a235161f53"
   },
   "outputs": [
    {
     "name": "stdout",
     "output_type": "stream",
     "text": [
      "Still working my way through it but definitely changes your view on investment. Wish it was available on Audible\n"
     ]
    },
    {
     "name": "stderr",
     "output_type": "stream",
     "text": [
      "172.28.0.2 - - [07/Jun/2020 03:57:14] \"\u001b[37mPOST /seclassifier HTTP/1.1\u001b[0m\" 200 -\n"
     ]
    },
    {
     "name": "stdout",
     "output_type": "stream",
     "text": [
      "200\n",
      "{\"predictions \":[[0.8370060324668884]],\"sentiment \":\"positive\"}\n",
      "\n"
     ]
    }
   ],
   "source": [
    "import requests, json\n",
    "headers = {'Content-type': 'application/json', 'Accept': 'text/plain'}\n",
    "data = {\"text\":\"Still working my way through it but definitely changes your view on investment. Wish it was available on Audible\"}\n",
    "req = requests.post(\"http://172.28.0.2:6000/seclassifier\",  data=json.dumps(data), headers=headers)\n",
    "\n",
    "print(req.status_code)\n",
    "print(req.text)"
   ]
  },
  {
   "cell_type": "code",
   "execution_count": 15,
   "metadata": {
    "colab": {
     "base_uri": "https://localhost:8080/",
     "height": 102
    },
    "colab_type": "code",
    "id": "stWiQxHI16Qi",
    "outputId": "c6959780-0484-4812-a14a-cdde3e5dd135"
   },
   "outputs": [
    {
     "name": "stderr",
     "output_type": "stream",
     "text": [
      "172.28.0.2 - - [07/Jun/2020 03:57:27] \"\u001b[37mPOST /seclassifier HTTP/1.1\u001b[0m\" 200 -\n"
     ]
    },
    {
     "name": "stdout",
     "output_type": "stream",
     "text": [
      "I thought this will be good one. But I was wrong\n",
      "200\n",
      "{\"predictions \":[[-0.8676945567131042]],\"sentiment \":\"Negative\"}\n",
      "\n"
     ]
    }
   ],
   "source": [
    "import requests, json\n",
    "headers = {'Content-type': 'application/json', 'Accept': 'text/plain'}\n",
    "data = {\"text\":\"I thought this will be good one. But I was wrong\"}\n",
    "req = requests.post(\"http://172.28.0.2:6000/seclassifier\",  data=json.dumps(data), headers=headers)\n",
    "\n",
    "print(req.status_code)\n",
    "print(req.text)"
   ]
  },
  {
   "cell_type": "code",
   "execution_count": 16,
   "metadata": {
    "colab": {
     "base_uri": "https://localhost:8080/",
     "height": 105
    },
    "colab_type": "code",
    "id": "R0jA9Xev2zz-",
    "outputId": "8cbeffa2-69f5-493f-d485-12367c709944"
   },
   "outputs": [
    {
     "name": "stdout",
     "output_type": "stream",
     "text": [
      "root          19       9  0 03:48 ?        00:00:02 /usr/bin/python2 /usr/local/bin/jupyter-notebook --ip=\"172.28.0.2\" --port=9000 --FileContentsManager.root_dir=\"/\" --MappingKernelManager.root_dir=\"/content\"\n",
      "root         122      19  1 03:49 ?        00:00:09 /usr/bin/python3 -m ipykernel_launcher -f /root/.local/share/jupyter/runtime/kernel-733dfd7d-adab-4f0e-bcde-f1272238038b.json\n",
      "root         490     122  0 03:57 ?        00:00:00 /bin/bash -c ps -eaf | grep python\n",
      "root         492     490  0 03:57 ?        00:00:00 grep python\n"
     ]
    }
   ],
   "source": [
    "!ps -eaf | grep python"
   ]
  },
  {
   "cell_type": "code",
   "execution_count": 17,
   "metadata": {
    "colab": {
     "base_uri": "https://localhost:8080/",
     "height": 34
    },
    "colab_type": "code",
    "id": "eGJiHeCD5a1K",
    "outputId": "fbcc0b14-677a-401a-9afd-5d1f4a5705ae"
   },
   "outputs": [
    {
     "data": {
      "text/plain": [
       "'1.1.2'"
      ]
     },
     "execution_count": 17,
     "metadata": {
      "tags": []
     },
     "output_type": "execute_result"
    }
   ],
   "source": [
    "import flask\n",
    "flask.__version__"
   ]
  },
  {
   "cell_type": "code",
   "execution_count": 18,
   "metadata": {
    "colab": {
     "base_uri": "https://localhost:8080/",
     "height": 292
    },
    "colab_type": "code",
    "id": "yDJ3bhrzG65X",
    "outputId": "fa202e89-a7bd-406f-e863-fc671c4fb8af"
   },
   "outputs": [
    {
     "name": "stdout",
     "output_type": "stream",
     "text": [
      "Collecting flask-ngrok\n",
      "  Downloading https://files.pythonhosted.org/packages/af/6c/f54cb686ad1129e27d125d182f90f52b32f284e6c8df58c1bae54fa1adbc/flask_ngrok-0.0.25-py3-none-any.whl\n",
      "Requirement already satisfied: Flask>=0.8 in /usr/local/lib/python3.6/dist-packages (from flask-ngrok) (1.1.2)\n",
      "Requirement already satisfied: requests in /usr/local/lib/python3.6/dist-packages (from flask-ngrok) (2.23.0)\n",
      "Requirement already satisfied: Jinja2>=2.10.1 in /usr/local/lib/python3.6/dist-packages (from Flask>=0.8->flask-ngrok) (2.11.2)\n",
      "Requirement already satisfied: click>=5.1 in /usr/local/lib/python3.6/dist-packages (from Flask>=0.8->flask-ngrok) (7.1.2)\n",
      "Requirement already satisfied: itsdangerous>=0.24 in /usr/local/lib/python3.6/dist-packages (from Flask>=0.8->flask-ngrok) (1.1.0)\n",
      "Requirement already satisfied: Werkzeug>=0.15 in /usr/local/lib/python3.6/dist-packages (from Flask>=0.8->flask-ngrok) (1.0.1)\n",
      "Requirement already satisfied: certifi>=2017.4.17 in /usr/local/lib/python3.6/dist-packages (from requests->flask-ngrok) (2020.4.5.1)\n",
      "Requirement already satisfied: urllib3!=1.25.0,!=1.25.1,<1.26,>=1.21.1 in /usr/local/lib/python3.6/dist-packages (from requests->flask-ngrok) (1.24.3)\n",
      "Requirement already satisfied: chardet<4,>=3.0.2 in /usr/local/lib/python3.6/dist-packages (from requests->flask-ngrok) (3.0.4)\n",
      "Requirement already satisfied: idna<3,>=2.5 in /usr/local/lib/python3.6/dist-packages (from requests->flask-ngrok) (2.9)\n",
      "Requirement already satisfied: MarkupSafe>=0.23 in /usr/local/lib/python3.6/dist-packages (from Jinja2>=2.10.1->Flask>=0.8->flask-ngrok) (1.1.1)\n",
      "Installing collected packages: flask-ngrok\n",
      "Successfully installed flask-ngrok-0.0.25\n"
     ]
    }
   ],
   "source": [
    "!pip install flask-ngrok"
   ]
  },
  {
   "cell_type": "code",
   "execution_count": 22,
   "metadata": {
    "colab": {
     "base_uri": "https://localhost:8080/",
     "height": 289
    },
    "colab_type": "code",
    "id": "35JGfAl1yXvE",
    "outputId": "31bbeb87-5b5f-4cac-df8b-4d08bae789d4"
   },
   "outputs": [
    {
     "name": "stdout",
     "output_type": "stream",
     "text": [
      "Model and Vocabalory loaded.......\n",
      " * Serving Flask app \"__main__\" (lazy loading)\n",
      " * Environment: production\n",
      "\u001b[31m   WARNING: This is a development server. Do not use it in a production deployment.\u001b[0m\n",
      "\u001b[2m   Use a production WSGI server instead.\u001b[0m\n",
      " * Debug mode: off\n"
     ]
    },
    {
     "name": "stderr",
     "output_type": "stream",
     "text": [
      " * Running on http://127.0.0.1:5000/ (Press CTRL+C to quit)\n"
     ]
    },
    {
     "name": "stdout",
     "output_type": "stream",
     "text": [
      " * Running on http://3bf84cb8f099.ngrok.io\n",
      " * Traffic stats available on http://127.0.0.1:4040\n"
     ]
    },
    {
     "name": "stderr",
     "output_type": "stream",
     "text": [
      "127.0.0.1 - - [07/Jun/2020 04:25:47] \"\u001b[37mGET / HTTP/1.1\u001b[0m\" 200 -\n"
     ]
    },
    {
     "name": "stdout",
     "output_type": "stream",
     "text": [
      "I thought it to be a good product but it is nothing but a piece of crap\n"
     ]
    },
    {
     "name": "stderr",
     "output_type": "stream",
     "text": [
      "127.0.0.1 - - [07/Jun/2020 04:27:01] \"\u001b[37mPOST /seclassifier HTTP/1.1\u001b[0m\" 200 -\n",
      "127.0.0.1 - - [07/Jun/2020 04:27:30] \"\u001b[37mPOST /seclassifier HTTP/1.1\u001b[0m\" 200 -\n"
     ]
    },
    {
     "name": "stdout",
     "output_type": "stream",
     "text": [
      "I thought it to be a good product but it is nothing but a piece of crap\n"
     ]
    },
    {
     "name": "stderr",
     "output_type": "stream",
     "text": [
      "127.0.0.1 - - [07/Jun/2020 04:29:13] \"\u001b[37mPOST /seclassifier HTTP/1.1\u001b[0m\" 200 -\n"
     ]
    },
    {
     "name": "stdout",
     "output_type": "stream",
     "text": [
      "way better than my expectations! atleast for its cheap price\n"
     ]
    }
   ],
   "source": [
    "import tensorflow_datasets as tfds\n",
    "import tensorflow as tf\n",
    "from flask import Flask, jsonify, make_response, request\n",
    "from flask_ngrok import run_with_ngrok\n",
    "\n",
    "app = Flask(__name__)\n",
    "run_with_ngrok(app)\n",
    "\n",
    "padding_size = 1000\n",
    "model = tf.keras.models.load_model('/content/drive/My Drive/Colab/Amozon Sentiment Analysis/sentiment_analysis.hdf5')\n",
    "text_encoder = tfds.features.text.TokenTextEncoder.load_from_file(\"/content/drive/My Drive/Colab/Amozon Sentiment Analysis/sa_encoder.vocab\")\n",
    "\n",
    "print('Model and Vocabalory loaded.......')\n",
    "\n",
    "@app.route(\"/\")\n",
    "def hello():\n",
    "    return \"I am alive!\"\n",
    "\n",
    "def pad_to_size(vec, size):\n",
    "    zeros = [0] * (size - len(vec))\n",
    "    vec.extend(zeros)\n",
    "    return vec\n",
    "\n",
    "\n",
    "def predict_fn(predict_text, pad_size):\n",
    "    encoded_text = text_encoder.encode(predict_text)\n",
    "    encoded_text = pad_to_size(encoded_text, pad_size)\n",
    "    encoded_text = tf.cast(encoded_text, tf.int64)\n",
    "    predictions = model.predict(tf.expand_dims(encoded_text, 0))\n",
    "\n",
    "    return (predictions.tolist())\n",
    "\n",
    "\n",
    "@app.route('/seclassifier', methods=['POST'])\n",
    "def predict_sentiment():\n",
    "    text = request.get_json()['text']\n",
    "    print(text)\n",
    "    predictions = predict_fn(text, padding_size)\n",
    "    sentiment = 'positive' if float(''.join(map(str,predictions[0]))) > 0 else 'Negative'\n",
    "    return jsonify({'predictions ':predictions, 'sentiment ': sentiment})\n",
    "\n",
    "if __name__ == '__main__':\n",
    "    app.run()"
   ]
  },
  {
   "cell_type": "code",
   "execution_count": null,
   "metadata": {
    "colab": {},
    "colab_type": "code",
    "id": "5vgwRobA02md"
   },
   "outputs": [],
   "source": []
  }
 ],
 "metadata": {
  "accelerator": "GPU",
  "colab": {
   "collapsed_sections": [],
   "name": "Running_Flask_in_Colab.ipynb",
   "provenance": []
  },
  "kernelspec": {
   "display_name": "Python 3",
   "language": "python",
   "name": "python3"
  },
  "language_info": {
   "codemirror_mode": {
    "name": "ipython",
    "version": 3
   },
   "file_extension": ".py",
   "mimetype": "text/x-python",
   "name": "python",
   "nbconvert_exporter": "python",
   "pygments_lexer": "ipython3",
   "version": "3.7.4"
  }
 },
 "nbformat": 4,
 "nbformat_minor": 4
}
